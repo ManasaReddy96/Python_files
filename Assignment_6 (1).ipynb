{
 "cells": [
  {
   "cell_type": "code",
   "execution_count": 1,
   "id": "0b5c437c",
   "metadata": {},
   "outputs": [],
   "source": [
    "# Define function which will return max of three numbers"
   ]
  },
  {
   "cell_type": "code",
   "execution_count": 2,
   "id": "db596879",
   "metadata": {},
   "outputs": [],
   "source": [
    "def max_numbers(x,y,z):\n",
    "    return max(x,y,z)"
   ]
  },
  {
   "cell_type": "code",
   "execution_count": 6,
   "id": "b248dd09",
   "metadata": {},
   "outputs": [
    {
     "data": {
      "text/plain": [
       "300"
      ]
     },
     "execution_count": 6,
     "metadata": {},
     "output_type": "execute_result"
    }
   ],
   "source": [
    "max_numbers(200,300,200)"
   ]
  },
  {
   "cell_type": "code",
   "execution_count": 7,
   "id": "6d232d32",
   "metadata": {},
   "outputs": [],
   "source": [
    "# 2) Define a Python Function to reverse a string."
   ]
  },
  {
   "cell_type": "code",
   "execution_count": 18,
   "id": "b5fe94dd",
   "metadata": {},
   "outputs": [],
   "source": [
    "def reverse_string(x):\n",
    "    return x[::-1]"
   ]
  },
  {
   "cell_type": "code",
   "execution_count": 19,
   "id": "a0dd9759",
   "metadata": {},
   "outputs": [
    {
     "data": {
      "text/plain": [
       "'@2#5432dcba'"
      ]
     },
     "execution_count": 19,
     "metadata": {},
     "output_type": "execute_result"
    }
   ],
   "source": [
    "reverse_string(\"abcd2345#2@\")"
   ]
  },
  {
   "cell_type": "code",
   "execution_count": 20,
   "id": "2b8b6c5d",
   "metadata": {},
   "outputs": [],
   "source": [
    "# 3) Write a Python program to define a function that accepts 2 values and return its sum, subtraction and multiplication.\n"
   ]
  },
  {
   "cell_type": "code",
   "execution_count": 22,
   "id": "6e02e640",
   "metadata": {},
   "outputs": [],
   "source": [
    "def calculate(a,b):\n",
    "    print(a+b),print(a-b),print(a*b)\n",
    "    \n",
    "    "
   ]
  },
  {
   "cell_type": "code",
   "execution_count": 23,
   "id": "ebe40008",
   "metadata": {},
   "outputs": [
    {
     "name": "stdout",
     "output_type": "stream",
     "text": [
      "5\n",
      "-1\n",
      "6\n"
     ]
    }
   ],
   "source": [
    "calculate(2,3)"
   ]
  },
  {
   "cell_type": "code",
   "execution_count": 24,
   "id": "54f543a5",
   "metadata": {},
   "outputs": [],
   "source": [
    "# 4) Define a function that accepts roll number and returns whether the student is present or absent.\n",
    " "
   ]
  },
  {
   "cell_type": "code",
   "execution_count": 35,
   "id": "2dc7fe7a",
   "metadata": {},
   "outputs": [
    {
     "name": "stdout",
     "output_type": "stream",
     "text": [
      "enter roll number: 2\n",
      "if student is present p other wise give a: a\n"
     ]
    }
   ],
   "source": [
    "present_roll_number_list = input(\"enter roll number: \")\n",
    "present_list= input( \"if student is present p other wise give a: \")\n",
    "def attendance(roll_number):\n",
    "    if present_list==\"p\":\n",
    "        return print(\"present\")\n",
    "    else:\n",
    "        return print(\"absent\")\n",
    "    "
   ]
  },
  {
   "cell_type": "code",
   "execution_count": 38,
   "id": "5a83d506",
   "metadata": {},
   "outputs": [
    {
     "name": "stdout",
     "output_type": "stream",
     "text": [
      "absent\n"
     ]
    }
   ],
   "source": [
    "attendance(1)"
   ]
  },
  {
   "cell_type": "code",
   "execution_count": null,
   "id": "c53adf4b",
   "metadata": {},
   "outputs": [],
   "source": [
    "# Define a function in python that accepts n values and returns the maximum of n numbers\n"
   ]
  },
  {
   "cell_type": "code",
   "execution_count": 39,
   "id": "2f4d9f41",
   "metadata": {},
   "outputs": [],
   "source": [
    "def max_num(*x):\n",
    "    return max(*x)"
   ]
  },
  {
   "cell_type": "code",
   "execution_count": 40,
   "id": "9bcb83bd",
   "metadata": {},
   "outputs": [
    {
     "data": {
      "text/plain": [
       "5"
      ]
     },
     "execution_count": 40,
     "metadata": {},
     "output_type": "execute_result"
    }
   ],
   "source": [
    "max_num(1,2,3,4,5)"
   ]
  },
  {
   "cell_type": "code",
   "execution_count": 41,
   "id": "5c587487",
   "metadata": {},
   "outputs": [],
   "source": [
    "# 6. Define a function which counts vowels and consonant in a word."
   ]
  },
  {
   "cell_type": "code",
   "execution_count": 50,
   "id": "7f71172d",
   "metadata": {},
   "outputs": [],
   "source": [
    "def word(string):\n",
    "    \n",
    "    v_count=len([x for x in string if x.lower() in \"aeiou\"])\n",
    "    c_count=len(string)-v_count\n",
    "    return v_count,c_count\n",
    "    \n",
    "        \n",
    "    "
   ]
  },
  {
   "cell_type": "code",
   "execution_count": 51,
   "id": "15d0df3c",
   "metadata": {},
   "outputs": [
    {
     "data": {
      "text/plain": [
       "(6, 9)"
      ]
     },
     "execution_count": 51,
     "metadata": {},
     "output_type": "execute_result"
    }
   ],
   "source": [
    "word(\"anskkseuakxjsaa\")"
   ]
  },
  {
   "cell_type": "code",
   "execution_count": 52,
   "id": "b3ea4739",
   "metadata": {},
   "outputs": [],
   "source": [
    "# 7. Define a function that returns Factorial of a number\n"
   ]
  },
  {
   "cell_type": "code",
   "execution_count": 57,
   "id": "90512a4d",
   "metadata": {},
   "outputs": [],
   "source": [
    "def factorial(x):\n",
    "    if x==0 or x==1:\n",
    "        return 1\n",
    "    else:\n",
    "        return x*factorial(x-1)"
   ]
  },
  {
   "cell_type": "code",
   "execution_count": 58,
   "id": "9bc64922",
   "metadata": {},
   "outputs": [
    {
     "data": {
      "text/plain": [
       "720"
      ]
     },
     "execution_count": 58,
     "metadata": {},
     "output_type": "execute_result"
    }
   ],
   "source": [
    "factorial(6)"
   ]
  },
  {
   "cell_type": "code",
   "execution_count": 59,
   "id": "b6756b74",
   "metadata": {},
   "outputs": [],
   "source": [
    "#8) Define a function that accepts radius and returns the area of a circle.\n"
   ]
  },
  {
   "cell_type": "code",
   "execution_count": 61,
   "id": "c305bf31",
   "metadata": {},
   "outputs": [],
   "source": [
    "def radius(x):\n",
    "    return 3.14159265359*x**2"
   ]
  },
  {
   "cell_type": "code",
   "execution_count": 62,
   "id": "789813b0",
   "metadata": {},
   "outputs": [
    {
     "data": {
      "text/plain": [
       "113.09733552924"
      ]
     },
     "execution_count": 62,
     "metadata": {},
     "output_type": "execute_result"
    }
   ],
   "source": [
    "radius(6)"
   ]
  },
  {
   "cell_type": "code",
   "execution_count": 63,
   "id": "983091c4",
   "metadata": {},
   "outputs": [],
   "source": [
    "#9) Define a function that takes a number as a parameter and check the number is prime or not.\n"
   ]
  },
  {
   "cell_type": "code",
   "execution_count": 64,
   "id": "b0d98f30",
   "metadata": {},
   "outputs": [],
   "source": [
    "def marathon_(*x):\n",
    "    \n",
    "    total=0\n",
    "    if x==():\n",
    "        print(\"False\")\n",
    "    else:\n",
    "        for i in x:\n",
    "            if i>=0:\n",
    "                total=total+i\n",
    "            else:\n",
    "                total=total+(-(i))\n",
    "        if total==25:\n",
    "            print(\"True\")\n",
    "            return True\n",
    "        else:\n",
    "            print(\"False\")\n",
    "            return False\n",
    "        \n",
    "        "
   ]
  },
  {
   "cell_type": "code",
   "execution_count": 67,
   "id": "5242c4af",
   "metadata": {},
   "outputs": [
    {
     "data": {
      "text/plain": [
       "True"
      ]
     },
     "execution_count": 67,
     "metadata": {},
     "output_type": "execute_result"
    }
   ],
   "source": [
    "check_prime(31)"
   ]
  },
  {
   "cell_type": "code",
   "execution_count": 68,
   "id": "aebd7047",
   "metadata": {},
   "outputs": [],
   "source": [
    "# 10) Mary wants to run a 25-mile marathon. When she attempts to\n",
    "#sign up for the marathon, she notices the sign-up sheet doesn't\n",
    "#directly state the marathon's length. Instead, the marathon's length\n",
    "#is listed in small, different portions. Help Mary find out how long\n",
    "#the marathon actually is. So create a function that\n",
    "# Return True if the marathon is 25 miles long, otherwise, return False.\n",
    "\n"
   ]
  },
  {
   "cell_type": "code",
   "execution_count": 2,
   "id": "03d6f157",
   "metadata": {},
   "outputs": [],
   "source": [
    "def marathon_(*x):\n",
    "    \n",
    "    total=0\n",
    "    if x==():\n",
    "        print(\"False\")\n",
    "    else:\n",
    "        for i in x:\n",
    "            if i>=0:\n",
    "                total=total+i\n",
    "            else:\n",
    "                total=total+(-(i))\n",
    "        if total==25:\n",
    "            print(\"True\")\n",
    "            return True\n",
    "        else:\n",
    "            print(\"False\")\n",
    "            return False\n",
    "        \n",
    "    \n",
    "     \n",
    "\n",
    "    \n",
    "    "
   ]
  },
  {
   "cell_type": "code",
   "execution_count": 5,
   "id": "98603503",
   "metadata": {},
   "outputs": [
    {
     "name": "stdout",
     "output_type": "stream",
     "text": [
      "True\n"
     ]
    },
    {
     "data": {
      "text/plain": [
       "True"
      ]
     },
     "execution_count": 5,
     "metadata": {},
     "output_type": "execute_result"
    }
   ],
   "source": [
    "marathon_(2,3,5,15)"
   ]
  },
  {
   "cell_type": "code",
   "execution_count": 17,
   "id": "c09cab85",
   "metadata": {},
   "outputs": [],
   "source": [
    "# 11. Create a function that takes a number and returns True if the\n",
    "# number is automorphic, False if it isn't."
   ]
  },
  {
   "cell_type": "code",
   "execution_count": 109,
   "id": "ac831c56",
   "metadata": {},
   "outputs": [],
   "source": [
    "def is_automorphic(n):\n",
    "    return str(n**2).endswith(str(n))"
   ]
  },
  {
   "cell_type": "code",
   "execution_count": 118,
   "id": "d3e3216e",
   "metadata": {},
   "outputs": [
    {
     "data": {
      "text/plain": [
       "True"
      ]
     },
     "execution_count": 118,
     "metadata": {},
     "output_type": "execute_result"
    }
   ],
   "source": [
    "is_automorphic(25)"
   ]
  },
  {
   "cell_type": "code",
   "execution_count": null,
   "id": "28e3d9fd",
   "metadata": {},
   "outputs": [],
   "source": [
    "# 12. Create a function, that will take given a, b, c, and do the following:\n",
    "# Add a to itself b times and Check if the result is divisible by c.\n",
    "# and return true if it is divisible by c or false"
   ]
  },
  {
   "cell_type": "code",
   "execution_count": 136,
   "id": "23a67c59",
   "metadata": {},
   "outputs": [],
   "source": [
    "def f1(a,b,c):\n",
    "    x=(b+b)\n",
    "    if x/c==0:\n",
    "        return True\n",
    "    else:\n",
    "        return False\n"
   ]
  },
  {
   "cell_type": "code",
   "execution_count": 137,
   "id": "3faca95f",
   "metadata": {},
   "outputs": [
    {
     "data": {
      "text/plain": [
       "False"
      ]
     },
     "execution_count": 137,
     "metadata": {},
     "output_type": "execute_result"
    }
   ],
   "source": [
    "f1(1,2,3)"
   ]
  },
  {
   "cell_type": "code",
   "execution_count": 138,
   "id": "63485ab0",
   "metadata": {},
   "outputs": [],
   "source": [
    "# 13. Create a function that changes specific words into emoticons.\n",
    "# Given a sentence as a string, replace the words smile, grin, sad and mad\n",
    "# with their corresponding emoticons.\n",
    "# word emoticon\n",
    "#smile :D\n",
    "#grin :)\n",
    "#sad :(\n",
    "#mad :P"
   ]
  },
  {
   "cell_type": "code",
   "execution_count": 170,
   "id": "8cc8cfb8",
   "metadata": {},
   "outputs": [],
   "source": [
    "def emotions(sentence):\n",
    "    words={\"smile\":\":D\",\"grin\":\":)\",\"sad\":\":(\",\"mad\":\":P\"}\n",
    "    for x,y in words.items():\n",
    "        sentence=sentence.replace(x,y)\n",
    "    return sentence\n",
    "        "
   ]
  },
  {
   "cell_type": "code",
   "execution_count": 173,
   "id": "30bce052",
   "metadata": {},
   "outputs": [
    {
     "data": {
      "text/plain": [
       "'her :D makes everything :).'"
      ]
     },
     "execution_count": 173,
     "metadata": {},
     "output_type": "execute_result"
    }
   ],
   "source": [
    "emotions(\"her smile makes everything beautiful.\")"
   ]
  },
  {
   "cell_type": "code",
   "execution_count": 174,
   "id": "11efeee1",
   "metadata": {},
   "outputs": [
    {
     "data": {
      "text/plain": [
       "'he is :P because of her :D '"
      ]
     },
     "execution_count": 174,
     "metadata": {},
     "output_type": "execute_result"
    }
   ],
   "source": [
    "emotions(\"he is mad because of her smile \")"
   ]
  },
  {
   "cell_type": "code",
   "execution_count": 175,
   "id": "c95bd392",
   "metadata": {},
   "outputs": [],
   "source": [
    "# 14) Write a Python program to square and cube every number in a given\n",
    "# list of integers using Lambda"
   ]
  },
  {
   "cell_type": "code",
   "execution_count": 180,
   "id": "8fbf44e0",
   "metadata": {},
   "outputs": [
    {
     "name": "stdout",
     "output_type": "stream",
     "text": [
      "[1, 4, 9, 16, 25, 36, 49, 64, 81]\n",
      "[1, 8, 27, 64, 125, 216, 343, 512, 729]\n"
     ]
    }
   ],
   "source": [
    "num=[1,2,3,4,5,6,7,8,9]\n",
    "\n",
    "print(list(map(lambda x:x**2,num)))\n",
    "print(list(map(lambda x:x**3,num)))\n",
    "\n"
   ]
  },
  {
   "cell_type": "code",
   "execution_count": 181,
   "id": "b8e2b301",
   "metadata": {},
   "outputs": [],
   "source": [
    "#15)Write a Python program to check whether a given string is number\n",
    "#or not using Lambda"
   ]
  },
  {
   "cell_type": "code",
   "execution_count": 185,
   "id": "c6fd41b3",
   "metadata": {},
   "outputs": [],
   "source": [
    "x=lambda num:num.replace(\".\",\"\",1).isdigit()"
   ]
  },
  {
   "cell_type": "code",
   "execution_count": 187,
   "id": "2e0c59a1",
   "metadata": {},
   "outputs": [
    {
     "data": {
      "text/plain": [
       "True"
      ]
     },
     "execution_count": 187,
     "metadata": {},
     "output_type": "execute_result"
    }
   ],
   "source": [
    "x(\"12345\")"
   ]
  },
  {
   "cell_type": "code",
   "execution_count": null,
   "id": "cb3b4048",
   "metadata": {},
   "outputs": [],
   "source": []
  }
 ],
 "metadata": {
  "kernelspec": {
   "display_name": "Python 3 (ipykernel)",
   "language": "python",
   "name": "python3"
  },
  "language_info": {
   "codemirror_mode": {
    "name": "ipython",
    "version": 3
   },
   "file_extension": ".py",
   "mimetype": "text/x-python",
   "name": "python",
   "nbconvert_exporter": "python",
   "pygments_lexer": "ipython3",
   "version": "3.10.9"
  }
 },
 "nbformat": 4,
 "nbformat_minor": 5
}
