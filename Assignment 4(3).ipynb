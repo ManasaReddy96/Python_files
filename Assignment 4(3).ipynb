{
 "cells": [
  {
   "cell_type": "code",
   "execution_count": 1,
   "id": "88740a38",
   "metadata": {},
   "outputs": [],
   "source": [
    "# 1) Write a Python program that prints all the numbers from 0 to 6 except 3 and 6\n"
   ]
  },
  {
   "cell_type": "code",
   "execution_count": 10,
   "id": "ace46c84",
   "metadata": {},
   "outputs": [
    {
     "data": {
      "text/plain": [
       "[0, 1, 2, 4, 5]"
      ]
     },
     "execution_count": 10,
     "metadata": {},
     "output_type": "execute_result"
    }
   ],
   "source": [
    "list(filter(lambda x:x !=3 and x!=6,range(0,7)))"
   ]
  },
  {
   "cell_type": "code",
   "execution_count": 11,
   "id": "4c290927",
   "metadata": {},
   "outputs": [],
   "source": [
    "#2) Write a program to accept a number from a user and\n",
    "# calculate the sum of all numbers from 1 to a given number\n"
   ]
  },
  {
   "cell_type": "code",
   "execution_count": 17,
   "id": "a7e7dcfa",
   "metadata": {},
   "outputs": [
    {
     "name": "stdout",
     "output_type": "stream",
     "text": [
      "Enter the number: 10\n",
      "55\n"
     ]
    }
   ],
   "source": [
    "number1 = int(input(\"Enter the number: \"))\n",
    "x=0\n",
    "for y in range(1,number1+1):\n",
    "    x+=y\n",
    "print(x)"
   ]
  },
  {
   "cell_type": "code",
   "execution_count": 19,
   "id": "fac46ff1",
   "metadata": {},
   "outputs": [],
   "source": [
    "# 3) Write a program to print multiplication table of a given number(input)\n"
   ]
  },
  {
   "cell_type": "code",
   "execution_count": 25,
   "id": "5ff15bc5",
   "metadata": {},
   "outputs": [
    {
     "name": "stdout",
     "output_type": "stream",
     "text": [
      "Enter the number: 2\n",
      "2 * 1 = 2\n",
      "2 * 2 = 4\n",
      "2 * 3 = 6\n",
      "2 * 4 = 8\n",
      "2 * 5 = 10\n",
      "2 * 6 = 12\n",
      "2 * 7 = 14\n",
      "2 * 8 = 16\n",
      "2 * 9 = 18\n",
      "2 * 10 = 20\n"
     ]
    }
   ],
   "source": [
    "number = int(input(\"Enter the number: \"))\n",
    "\n",
    "for y in range(1,11):\n",
    "    print(number,\"*\",y,\"=\",number*y)\n"
   ]
  },
  {
   "cell_type": "code",
   "execution_count": 30,
   "id": "f10840cd",
   "metadata": {},
   "outputs": [
    {
     "name": "stdout",
     "output_type": "stream",
     "text": [
      "2 x 1 = 2\n",
      "2 x 2 = 4\n",
      "2 x 3 = 6\n",
      "2 x 4 = 8\n",
      "2 x 5 = 10\n",
      "2 x 6 = 12\n",
      "2 x 7 = 14\n",
      "2 x 8 = 16\n",
      "2 x 9 = 18\n",
      "2 x 10 = 20\n"
     ]
    },
    {
     "data": {
      "text/plain": [
       "[None, None, None, None, None, None, None, None, None, None]"
      ]
     },
     "execution_count": 30,
     "metadata": {},
     "output_type": "execute_result"
    }
   ],
   "source": [
    "list(map(lambda x:print(number,\"x\",x,\"=\",number*x),range(1,11)))"
   ]
  },
  {
   "cell_type": "code",
   "execution_count": 32,
   "id": "72ca08c8",
   "metadata": {},
   "outputs": [],
   "source": [
    "# 4) Write a program to count the total number of digits in a number using a while loop.\n",
    " "
   ]
  },
  {
   "cell_type": "code",
   "execution_count": 2,
   "id": "7674323a",
   "metadata": {},
   "outputs": [
    {
     "name": "stdout",
     "output_type": "stream",
     "text": [
      "enter a value: 123\n",
      "3\n"
     ]
    }
   ],
   "source": [
    "num= int(input(\"enter a value: \"))\n",
    "digits=0\n",
    "while num>0:\n",
    "    num=num//10\n",
    "    digits+=1\n",
    "print(digits)\n",
    "    "
   ]
  },
  {
   "cell_type": "code",
   "execution_count": 8,
   "id": "e7a617ac",
   "metadata": {},
   "outputs": [],
   "source": [
    "# 5) Write a Python program to guess a number between 1 to 9"
   ]
  },
  {
   "cell_type": "code",
   "execution_count": 1,
   "id": "c4e17379",
   "metadata": {},
   "outputs": [
    {
     "name": "stdout",
     "output_type": "stream",
     "text": [
      "guess a number: 6\n",
      "guess again!\n",
      "guess a number: 2\n",
      "guess again!\n",
      "guess a number: 6\n",
      "guess again!\n",
      "guess a number: 1\n",
      "guess again!\n",
      "guess a number: 3\n",
      "Well guessed!\n"
     ]
    }
   ],
   "source": [
    "y=0\n",
    "while y==0:\n",
    "    x=int(input(\"guess a number: \"))\n",
    "\n",
    "    if x==3:\n",
    "        print(\"Well guessed!\")\n",
    "        break\n",
    "    else:\n",
    "        print(\"guess again!\")\n",
    "        x+=1\n",
    "    \n",
    "        "
   ]
  },
  {
   "cell_type": "code",
   "execution_count": 4,
   "id": "4dcd44fc",
   "metadata": {},
   "outputs": [
    {
     "name": "stdout",
     "output_type": "stream",
     "text": [
      "1\n",
      "2\n",
      "FIZZ\n",
      "4\n",
      "BUZZ\n",
      "FIZZ\n",
      "7\n",
      "8\n",
      "FIZZ\n",
      "BUZZ\n",
      "11\n",
      "FIZZ\n",
      "13\n",
      "14\n",
      "FIZZBUZZ\n",
      "16\n",
      "17\n",
      "FIZZ\n",
      "19\n",
      "BUZZ\n",
      "FIZZ\n",
      "22\n",
      "23\n",
      "FIZZ\n",
      "BUZZ\n",
      "26\n",
      "FIZZ\n",
      "28\n",
      "29\n",
      "FIZZBUZZ\n",
      "31\n",
      "32\n",
      "FIZZ\n",
      "34\n",
      "BUZZ\n",
      "FIZZ\n",
      "37\n",
      "38\n",
      "FIZZ\n",
      "BUZZ\n",
      "41\n",
      "FIZZ\n",
      "43\n",
      "44\n",
      "FIZZBUZZ\n",
      "46\n",
      "47\n",
      "FIZZ\n",
      "49\n",
      "BUZZ\n",
      "FIZZ\n",
      "52\n",
      "53\n",
      "FIZZ\n",
      "BUZZ\n",
      "56\n",
      "FIZZ\n",
      "58\n",
      "59\n",
      "FIZZBUZZ\n"
     ]
    }
   ],
   "source": [
    "# 6) Write a Python program which iterates the integers from 1 to 60. For multiples of three print \"Fizz\" instead of the\n",
    "# number and for the multiples of five print \"Buzz\". For numbers which are multiples of both three and five print \n",
    "# \"FizzBuzz\".\n",
    "\n",
    "\n",
    "\n",
    "\n",
    "for x in (range(1,61)):\n",
    "    if x%3==0 and x%5==0:\n",
    "        print(\"FIZZBUZZ\")\n",
    "    elif x%3==0:\n",
    "        print(\"FIZZ\")\n",
    "    elif x%5==0:\n",
    "        print(\"BUZZ\")\n",
    "    else:\n",
    "        print(x)\n",
    "  "
   ]
  },
  {
   "cell_type": "code",
   "execution_count": null,
   "id": "3c697f4d",
   "metadata": {},
   "outputs": [],
   "source": [
    "#7)  Write a Python program that accepts a string and calculate\n",
    "# the number of digits and letters"
   ]
  },
  {
   "cell_type": "code",
   "execution_count": 10,
   "id": "6fa5b052",
   "metadata": {},
   "outputs": [
    {
     "name": "stdout",
     "output_type": "stream",
     "text": [
      "Enter a string: mmklejfk%24rwds9499\n",
      "12 6\n"
     ]
    }
   ],
   "source": [
    "string=input(\"Enter a string: \")\n",
    "alp=0\n",
    "num=0\n",
    "for x in string:\n",
    "    if x.isalpha()==True:\n",
    "        alp+=1\n",
    "    elif x.isdigit()==True:\n",
    "        num+=1\n",
    "    else:\n",
    "        continue\n",
    "    \n",
    "print(alp,num)"
   ]
  },
  {
   "cell_type": "code",
   "execution_count": 11,
   "id": "62fa136a",
   "metadata": {},
   "outputs": [],
   "source": [
    "# 8) Write a Python program to check the validity of password input by users.\n"
   ]
  },
  {
   "cell_type": "code",
   "execution_count": 17,
   "id": "52a5da4d",
   "metadata": {},
   "outputs": [],
   "source": [
    "def check(password):\n",
    "    if (6<=len(password)<=16 and (x.isdigit()==True for x in password) and (x.islower()==True for x in password)\\\n",
    "     and (x in [\"#\",\"@\",\"$\"]==True for x in password)):\n",
    "        return \"Valid password\"\n",
    "    \n",
    "    else: \n",
    "        return\"Invalid password\""
   ]
  },
  {
   "cell_type": "code",
   "execution_count": 18,
   "id": "d23baf6a",
   "metadata": {},
   "outputs": [
    {
     "data": {
      "text/plain": [
       "'Valid password'"
      ]
     },
     "execution_count": 18,
     "metadata": {},
     "output_type": "execute_result"
    }
   ],
   "source": [
    "check(\"manu@1233$\")"
   ]
  },
  {
   "cell_type": "code",
   "execution_count": null,
   "id": "44e976d1",
   "metadata": {},
   "outputs": [],
   "source": [
    "# 9) Write a program in Python to reverse a word by using while loop\n"
   ]
  },
  {
   "cell_type": "code",
   "execution_count": 1,
   "id": "c912786f",
   "metadata": {},
   "outputs": [
    {
     "name": "stdout",
     "output_type": "stream",
     "text": [
      "Enter a word: manasa\n",
      " asanam\n"
     ]
    }
   ],
   "source": [
    "word =input(\"Enter a word: \")\n",
    "x=\" \"\n",
    "y=len(word)-1\n",
    "while y>=0:\n",
    "    x+=word[y]\n",
    "    y-=1\n",
    "print(x)"
   ]
  },
  {
   "cell_type": "code",
   "execution_count": 6,
   "id": "f5bbbdbd",
   "metadata": {},
   "outputs": [],
   "source": [
    "# 10) Write a program which takes 10 integers as input using loop and print their average value on the screen\n"
   ]
  },
  {
   "cell_type": "code",
   "execution_count": 1,
   "id": "bffa1a03",
   "metadata": {},
   "outputs": [
    {
     "name": "stdout",
     "output_type": "stream",
     "text": [
      "1\n",
      "2\n",
      "3\n",
      "4\n",
      "5\n",
      "5\n",
      "6\n",
      "6\n",
      "7\n",
      "7\n",
      "8\n",
      "5.4\n"
     ]
    }
   ],
   "source": [
    "avg =0\n",
    "for _ in range(11):\n",
    "    num=int(input())\n",
    "    avg+=num\n",
    "x=avg/10\n",
    "print(x)\n",
    "\n",
    "    \n"
   ]
  },
  {
   "cell_type": "code",
   "execution_count": 2,
   "id": "11d737f2",
   "metadata": {},
   "outputs": [],
   "source": [
    "# 11) write a program which takes integer inputs from user until\n",
    "# he/she presses “q” (Ask to press q to quit after every integer\n",
    "# input). Print average and product of all numbers"
   ]
  },
  {
   "cell_type": "code",
   "execution_count": 9,
   "id": "c584df0b",
   "metadata": {},
   "outputs": [
    {
     "name": "stdout",
     "output_type": "stream",
     "text": [
      "Enter number: 3\n",
      "Enter number: 4\n",
      "Enter number: 5\n",
      "Enter number: 2\n",
      "Enter number: 10\n",
      "Enter number: q\n",
      "4.8 1200\n"
     ]
    }
   ],
   "source": [
    "sum=0\n",
    "product=1\n",
    "count=0\n",
    "x=1\n",
    "while x==1:\n",
    "    number = input(\"Enter number: \")\n",
    "    if number==\"q\":\n",
    "        break\n",
    "    else:\n",
    "        number=int(number)\n",
    "        sum=sum+number\n",
    "        product=product*number\n",
    "        count=count+1\n",
    "avg=sum/count\n",
    "print(avg,product)\n",
    "        \n",
    "    \n",
    "        \n",
    "       "
   ]
  },
  {
   "cell_type": "code",
   "execution_count": 10,
   "id": "6a7a52d3",
   "metadata": {},
   "outputs": [],
   "source": [
    "# 12) Write a Python program which will remove all digits or\n",
    "# any other characters from the string except alphabets\n"
   ]
  },
  {
   "cell_type": "code",
   "execution_count": 14,
   "id": "09a88c19",
   "metadata": {},
   "outputs": [
    {
     "name": "stdout",
     "output_type": "stream",
     "text": [
      "enter a string: man@123\n",
      "man\n"
     ]
    }
   ],
   "source": [
    "string=input(\"enter a string: \")\n",
    "result=\"\"\n",
    "for x in string:\n",
    "    if x.isalpha():\n",
    "        result+=x\n",
    "print(result)"
   ]
  },
  {
   "cell_type": "code",
   "execution_count": 15,
   "id": "87a8295e",
   "metadata": {},
   "outputs": [],
   "source": [
    "# 13) Write a python program to find the sum of all even numbers from 0 to 10\n"
   ]
  },
  {
   "cell_type": "code",
   "execution_count": 24,
   "id": "9d3468d5",
   "metadata": {},
   "outputs": [
    {
     "name": "stdout",
     "output_type": "stream",
     "text": [
      "25\n"
     ]
    }
   ],
   "source": [
    "\n",
    "sum=0\n",
    "for i in range(1,11,2):\n",
    "    sum+=i\n",
    "print(sum)\n",
    "\n",
    "    "
   ]
  },
  {
   "cell_type": "code",
   "execution_count": 29,
   "id": "e277ec7d",
   "metadata": {},
   "outputs": [],
   "source": [
    "# 14) Write a python program which will accept a digit and print\n",
    "# All the numbers before it till 0"
   ]
  },
  {
   "cell_type": "code",
   "execution_count": 1,
   "id": "82405b1b",
   "metadata": {},
   "outputs": [
    {
     "name": "stdout",
     "output_type": "stream",
     "text": [
      "Enter a number: 5\n",
      "4\n",
      "3\n",
      "2\n",
      "1\n",
      "0\n"
     ]
    }
   ],
   "source": [
    "num1=int(input(\"Enter a number: \"))\n",
    "for _ in range(num1-1,-1,-1):\n",
    "    print(_)\n"
   ]
  },
  {
   "cell_type": "code",
   "execution_count": 6,
   "id": "80668025",
   "metadata": {},
   "outputs": [],
   "source": [
    "# 15) Create a dynamic calculator which will run continually till you press “c”\n"
   ]
  },
  {
   "cell_type": "code",
   "execution_count": 7,
   "id": "b98fa7f4",
   "metadata": {},
   "outputs": [
    {
     "name": "stdout",
     "output_type": "stream",
     "text": [
      "Enter to start press any key or to off press c : s\n",
      "Enter number: 234\n",
      "Enter symbol +,-,%,/: /\n",
      "Enter number: 45\n",
      "234/45=5.2\n",
      "Enter to start press any key or to off press c : w\n",
      "Enter number: 543456\n",
      "Enter symbol +,-,%,/: =\n",
      "Enter number: 234543\n",
      "Invalid entry!!\n",
      "Enter to start press any key or to off press c : c\n"
     ]
    }
   ],
   "source": [
    "x=1\n",
    "while x==1:\n",
    "    off= input(\"Enter to start press any key or to off press c : \")\n",
    "    if off==\"c\":\n",
    "        break\n",
    "    else:\n",
    "        number1 = int(input(\"Enter number: \"))\n",
    "        symbol = input(\"Enter symbol +,-,%,/: \")\n",
    "        number2 = int(input(\"Enter number: \"))\n",
    "        \n",
    "        if symbol==\"+\":\n",
    "            print(\"{}+{}={}\".format(number1,number2,number1+number2))\n",
    "        elif symbol==\"-\":\n",
    "            print(\"{}-{}={}\".format(number1,number2,number1-number2))\n",
    "        elif symbol==\"*\":\n",
    "            print(\"{}*{}={}\".format(number1,number2,number1*number2))\n",
    "        elif symbol==\"%\":\n",
    "            print(\"{}%{}={}\".format(number1,number2,number1%number2))\n",
    "        elif symbol==\"/\":\n",
    "            print(\"{}/{}={}\".format(number1,number2,number1/number2))\n",
    "        else:\n",
    "            print(\"Invalid entry!!\")"
   ]
  },
  {
   "cell_type": "code",
   "execution_count": null,
   "id": "c6c139de",
   "metadata": {},
   "outputs": [],
   "source": []
  }
 ],
 "metadata": {
  "kernelspec": {
   "display_name": "Python 3 (ipykernel)",
   "language": "python",
   "name": "python3"
  },
  "language_info": {
   "codemirror_mode": {
    "name": "ipython",
    "version": 3
   },
   "file_extension": ".py",
   "mimetype": "text/x-python",
   "name": "python",
   "nbconvert_exporter": "python",
   "pygments_lexer": "ipython3",
   "version": "3.10.9"
  }
 },
 "nbformat": 4,
 "nbformat_minor": 5
}
