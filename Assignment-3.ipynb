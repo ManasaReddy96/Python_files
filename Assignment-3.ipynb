{
 "cells": [
  {
   "cell_type": "code",
   "execution_count": null,
   "id": "657bd5a2",
   "metadata": {},
   "outputs": [],
   "source": [
    "# Create a python program to print the below pattern using for loop as or while loop\n"
   ]
  },
  {
   "cell_type": "code",
   "execution_count": 25,
   "id": "f3f8bac5",
   "metadata": {},
   "outputs": [
    {
     "name": "stdout",
     "output_type": "stream",
     "text": [
      "1\n",
      "1 2\n",
      "1 2 3\n",
      "1 2 3 4\n",
      "1 2 3 4 5\n"
     ]
    }
   ],
   "source": [
    "x=5\n",
    "while x>=1:\n",
    "    if x==5:\n",
    "        print(\"1\")\n",
    "    elif x==4:\n",
    "        print(\"1 2\")\n",
    "    elif x==3:\n",
    "        print(\"1 2 3\")\n",
    "    elif x==2:\n",
    "        print(\"1 2 3 4\")\n",
    "    else:\n",
    "        print(\"1 2 3 4 5\")\n",
    "    x=x-1"
   ]
  },
  {
   "cell_type": "code",
   "execution_count": null,
   "id": "9c139d7e",
   "metadata": {},
   "outputs": [],
   "source": [
    "# Create a python program to print the below pattern using for loop as or while loop\n"
   ]
  },
  {
   "cell_type": "code",
   "execution_count": 17,
   "id": "cd7dbaf6",
   "metadata": {},
   "outputs": [
    {
     "name": "stdout",
     "output_type": "stream",
     "text": [
      "1\n",
      "2 2\n",
      "3 3 3\n",
      "4 4 4 4\n",
      "5 5 5 5 5\n"
     ]
    }
   ],
   "source": [
    "x=5\n",
    "while x>=1:\n",
    "    if x==5:\n",
    "        print(\"1\")\n",
    "    elif x==4:\n",
    "        print(\"2 2\")\n",
    "    elif x==3:\n",
    "        print(\"3 3 3\")\n",
    "    elif x==2:\n",
    "        print(\"4 4 4 4\")\n",
    "    else:\n",
    "        print(\"5 5 5 5 5\")\n",
    "    x=x-1"
   ]
  },
  {
   "cell_type": "code",
   "execution_count": 16,
   "id": "2cf6793f",
   "metadata": {},
   "outputs": [
    {
     "name": "stdout",
     "output_type": "stream",
     "text": [
      "1 1 1 1 1\n",
      "2 2 2 2\n",
      "3 3 3\n",
      "4 4\n",
      "5\n"
     ]
    }
   ],
   "source": [
    "x=5\n",
    "while x>=1:\n",
    "    if x==5:\n",
    "        print(\"1 1 1 1 1\")\n",
    "    elif x==4:\n",
    "        print(\"2 2 2 2\")\n",
    "    elif x==3:\n",
    "        print(\"3 3 3\")\n",
    "    elif x==2:\n",
    "        print(\"4 4\")\n",
    "    else:\n",
    "        print(\"5\")\n",
    "    x=x-1"
   ]
  },
  {
   "cell_type": "code",
   "execution_count": 15,
   "id": "3754167b",
   "metadata": {},
   "outputs": [
    {
     "name": "stdout",
     "output_type": "stream",
     "text": [
      "5 5 5 5 5\n",
      "5 5 5 5\n",
      "5 5 5\n",
      "5 5\n",
      "5\n"
     ]
    }
   ],
   "source": [
    "x=5\n",
    "while x>=1:\n",
    "    if x==5:\n",
    "        print(\"5 5 5 5 5\")\n",
    "    elif x==4:\n",
    "        print(\"5 5 5 5\")\n",
    "    elif x==3:\n",
    "        print(\"5 5 5\")\n",
    "    elif x==2:\n",
    "        print(\"5 5\")\n",
    "    else:\n",
    "        print(\"5\")\n",
    "    x=x-1\n",
    "   "
   ]
  },
  {
   "cell_type": "code",
   "execution_count": 18,
   "id": "41f960f9",
   "metadata": {},
   "outputs": [
    {
     "name": "stdout",
     "output_type": "stream",
     "text": [
      "0 1 2 3 4 5\n",
      "0 1 2 3 4\n",
      "0 1 2 3\n",
      "0 1 2 \n",
      "0 1\n",
      "0\n"
     ]
    }
   ],
   "source": [
    "x=6\n",
    "while x>=1:\n",
    "    if x==6:\n",
    "        print(\"0 1 2 3 4 5\")\n",
    "    elif x==5:\n",
    "        print(\"0 1 2 3 4\")\n",
    "    elif x==4:\n",
    "        print(\"0 1 2 3\")\n",
    "    elif x==3:\n",
    "        print(\"0 1 2 \")\n",
    "    elif x==2:\n",
    "        print(\"0 1\")\n",
    "    else:\n",
    "        print(\"0\")\n",
    "    x=x-1"
   ]
  },
  {
   "cell_type": "code",
   "execution_count": 19,
   "id": "77d293a8",
   "metadata": {},
   "outputs": [
    {
     "name": "stdout",
     "output_type": "stream",
     "text": [
      "1\n",
      "3 3\n",
      "5 5 5\n",
      "7 7 7 7\n",
      "9 9 9 9 9\n"
     ]
    }
   ],
   "source": [
    "x=5\n",
    "while x>=1:\n",
    "    if x==5:\n",
    "        print(\"1\")\n",
    "    elif x==4:\n",
    "        print(\"3 3\")\n",
    "    elif x==3:\n",
    "        print(\"5 5 5\")\n",
    "    elif x==2:\n",
    "        print(\"7 7 7 7\")\n",
    "    else:\n",
    "        print(\"9 9 9 9 9\")\n",
    "    x=x-1"
   ]
  },
  {
   "cell_type": "code",
   "execution_count": 20,
   "id": "16afd60f",
   "metadata": {},
   "outputs": [
    {
     "name": "stdout",
     "output_type": "stream",
     "text": [
      "5 5 5 5 5\n",
      "4 4 4 4\n",
      "3 3 3\n",
      "2 2\n",
      "1\n"
     ]
    }
   ],
   "source": [
    "x=5\n",
    "while x>=1:\n",
    "    if x==5:\n",
    "        print(\"5 5 5 5 5\")\n",
    "    elif x==4:\n",
    "        print(\"4 4 4 4\")\n",
    "    elif x==3:\n",
    "        print(\"3 3 3\")\n",
    "    elif x==2:\n",
    "        print(\"2 2\")\n",
    "    else:\n",
    "        print(\"1\")\n",
    "    x=x-1\n",
    "   "
   ]
  },
  {
   "cell_type": "code",
   "execution_count": 24,
   "id": "3f74c4e3",
   "metadata": {},
   "outputs": [
    {
     "name": "stdout",
     "output_type": "stream",
     "text": [
      "1\n",
      "2 1\n",
      "3 2 1\n",
      "4 3 2 1\n",
      "5 4 3 2 1\n"
     ]
    }
   ],
   "source": [
    "x=5\n",
    "while x>=1:\n",
    "    if x==5:\n",
    "        print(\"1\")\n",
    "    elif x==4:\n",
    "        print(\"2 1\")\n",
    "    elif x==3:\n",
    "        print(\"3 2 1\")\n",
    "    elif x==2:\n",
    "        print(\"4 3 2 1\")\n",
    "    else:\n",
    "        print(\"5 4 3 2 1\")\n",
    "    x=x-1"
   ]
  },
  {
   "cell_type": "code",
   "execution_count": 27,
   "id": "7c502066",
   "metadata": {},
   "outputs": [
    {
     "name": "stdout",
     "output_type": "stream",
     "text": [
      "5 4 3 2 1\n",
      "4 3 2 1\n",
      "3 2 1\n",
      "2 1\n",
      "1\n"
     ]
    }
   ],
   "source": [
    "x=5\n",
    "while x>=1:\n",
    "    if x==5:\n",
    "        print(\"5 4 3 2 1\")\n",
    "    elif x==4:\n",
    "        print(\"4 3 2 1\")\n",
    "    elif x==3:\n",
    "        print(\"3 2 1\")\n",
    "    elif x==2:\n",
    "        print(\"2 1\")\n",
    "    else:\n",
    "        print(\"1\")\n",
    "    x=x-1"
   ]
  },
  {
   "cell_type": "code",
   "execution_count": 28,
   "id": "3f04b62a",
   "metadata": {},
   "outputs": [
    {
     "name": "stdout",
     "output_type": "stream",
     "text": [
      "1\n",
      "3 2\n",
      "6 5 4\n",
      "10 9 8 7\n"
     ]
    }
   ],
   "source": [
    "x=5\n",
    "while x>=1:\n",
    "    if x==5:\n",
    "        print(\"1\")\n",
    "    elif x==4:\n",
    "        print(\"3 2\")\n",
    "    elif x==3:\n",
    "        print(\"6 5 4\")\n",
    "    elif x==2:\n",
    "        print(\"10 9 8 7\")\n",
    "    else:\n",
    "        break\n",
    "    x=x-1"
   ]
  },
  {
   "cell_type": "code",
   "execution_count": 35,
   "id": "d6b9c18f",
   "metadata": {},
   "outputs": [
    {
     "name": "stdout",
     "output_type": "stream",
     "text": [
      "        1\n",
      "      1 2\n",
      "    1 2 3\n",
      "  1 2 3 4\n",
      "1 2 3 4 5\n"
     ]
    }
   ],
   "source": [
    "x=5\n",
    "while x>=1:\n",
    "    if x==5:\n",
    "        print(\"        1\")\n",
    "    elif x==4:\n",
    "        print(\"      1 2\")\n",
    "    elif x==3:\n",
    "        print(\"    1 2 3\")\n",
    "    elif x==2:\n",
    "        print(\"  1 2 3 4\")\n",
    "    else:\n",
    "        print(\"1 2 3 4 5\")\n",
    "    x=x-1"
   ]
  },
  {
   "cell_type": "code",
   "execution_count": 36,
   "id": "0c36fe32",
   "metadata": {},
   "outputs": [
    {
     "name": "stdout",
     "output_type": "stream",
     "text": [
      "1\n",
      "1 1\n",
      "1 2 1\n",
      "1 3 2 1\n",
      "1 4 6 2 1\n",
      "1 5 10 5 1 \n",
      "1 6 15 20 15 6 1\n"
     ]
    }
   ],
   "source": [
    "x=7\n",
    "while x>=1:\n",
    "    if x==7:\n",
    "        print(\"1\")\n",
    "    elif x==6:\n",
    "        print(\"1 1\")\n",
    "    elif x==5:\n",
    "        print(\"1 2 1\")\n",
    "    elif x==4:\n",
    "        print(\"1 3 2 1\")\n",
    "    elif x==3:\n",
    "        print(\"1 4 6 2 1\")\n",
    "    elif x==2:\n",
    "        print(\"1 5 10 5 1 \")\n",
    "    else:\n",
    "        print(\"1 6 15 20 15 6 1\")\n",
    "    x=x-1"
   ]
  },
  {
   "cell_type": "code",
   "execution_count": 37,
   "id": "210c2472",
   "metadata": {},
   "outputs": [
    {
     "name": "stdout",
     "output_type": "stream",
     "text": [
      "1 2 3 4 5\n",
      "2 2 3 4 5\n",
      "3 3 3 4 5\n",
      "4 4 4 4 5\n",
      "5 5 5 5 5\n"
     ]
    }
   ],
   "source": [
    "x=5\n",
    "while x>=1:\n",
    "    if x==5:\n",
    "        print(\"1 2 3 4 5\")\n",
    "    elif x==4:\n",
    "        print(\"2 2 3 4 5\")\n",
    "    elif x==3:\n",
    "        print(\"3 3 3 4 5\")\n",
    "    elif x==2:\n",
    "        print(\"4 4 4 4 5\")\n",
    "    else:\n",
    "        print(\"5 5 5 5 5\")\n",
    "    x=x-1"
   ]
  },
  {
   "cell_type": "code",
   "execution_count": 38,
   "id": "c91d8ccd",
   "metadata": {},
   "outputs": [
    {
     "name": "stdout",
     "output_type": "stream",
     "text": [
      "1\n",
      "2  4\n",
      "3  6  9\n",
      "4  8  12  16 \n",
      "5  10  15  20  25\n",
      "6  12  18  24  30  36\n",
      "7  14  21  28  35  42  49\n",
      "8  16  24  32  40  48  56  64\n"
     ]
    }
   ],
   "source": [
    "x=8\n",
    "while x>=1:\n",
    "    if x==8:\n",
    "        print(\"1\")\n",
    "    elif x==7:\n",
    "        print(\"2  4\")\n",
    "    elif x==6:\n",
    "        print(\"3  6  9\")\n",
    "    elif x==5:\n",
    "        print(\"4  8  12  16 \")\n",
    "    elif x==4:\n",
    "        print(\"5  10  15  20  25\")\n",
    "    elif x==3:\n",
    "        print(\"6  12  18  24  30  36\")\n",
    "    elif x==2:\n",
    "        print(\"7  14  21  28  35  42  49\")\n",
    "    else:\n",
    "        print(\"8  16  24  32  40  48  56  64\")\n",
    "    x=x-1"
   ]
  },
  {
   "cell_type": "code",
   "execution_count": 39,
   "id": "4d687999",
   "metadata": {},
   "outputs": [
    {
     "name": "stdout",
     "output_type": "stream",
     "text": [
      "*\n",
      "* *\n",
      "* * *\n",
      "* * * *\n",
      "* * * * *\n"
     ]
    }
   ],
   "source": [
    "x=5\n",
    "while x>=1:\n",
    "    if x==5:\n",
    "        print(\"*\")\n",
    "    elif x==4:\n",
    "        print(\"* *\")\n",
    "    elif x==3:\n",
    "        print(\"* * *\")\n",
    "    elif x==2:\n",
    "        print(\"* * * *\")\n",
    "    else:\n",
    "        print(\"* * * * *\")\n",
    "    x=x-1"
   ]
  },
  {
   "cell_type": "code",
   "execution_count": 40,
   "id": "3ed379ed",
   "metadata": {},
   "outputs": [
    {
     "name": "stdout",
     "output_type": "stream",
     "text": [
      "        *\n",
      "      * *\n",
      "    * * *\n",
      "  * * * *\n",
      "* * * * *\n"
     ]
    }
   ],
   "source": [
    "x=5\n",
    "while x>=1:\n",
    "    if x==5:\n",
    "        print(\"        *\")\n",
    "    elif x==4:\n",
    "        print(\"      * *\")\n",
    "    elif x==3:\n",
    "        print(\"    * * *\")\n",
    "    elif x==2:\n",
    "        print(\"  * * * *\")\n",
    "    else:\n",
    "        print(\"* * * * *\")\n",
    "    x=x-1"
   ]
  },
  {
   "cell_type": "code",
   "execution_count": 41,
   "id": "694d23d2",
   "metadata": {},
   "outputs": [
    {
     "name": "stdout",
     "output_type": "stream",
     "text": [
      "* * * * *\n",
      "  * * * *\n",
      "    * * *\n",
      "      * *\n",
      "        *\n"
     ]
    }
   ],
   "source": [
    "x=5\n",
    "while x>=1:\n",
    "    if x==1:\n",
    "        print(\"        *\")\n",
    "    elif x==2:\n",
    "        print(\"      * *\")\n",
    "    elif x==3:\n",
    "        print(\"    * * *\")\n",
    "    elif x==4:\n",
    "        print(\"  * * * *\")\n",
    "    else:\n",
    "        print(\"* * * * *\")\n",
    "    x=x-1"
   ]
  },
  {
   "cell_type": "code",
   "execution_count": 42,
   "id": "ff448e8b",
   "metadata": {},
   "outputs": [
    {
     "name": "stdout",
     "output_type": "stream",
     "text": [
      " * * * * * *\n",
      "  * * * * *\n",
      "   * * * *\n",
      "    * * * \n",
      "     * *\n",
      "      *\n"
     ]
    }
   ],
   "source": [
    "x=6\n",
    "while x>=1:\n",
    "    if x==6:\n",
    "        print(\" * * * * * *\")\n",
    "    elif x==5:\n",
    "        print(\"  * * * * *\")\n",
    "    elif x==4:\n",
    "        print(\"   * * * *\")\n",
    "    elif x==3:\n",
    "        print(\"    * * * \")\n",
    "    elif x==2:\n",
    "        print(\"     * *\")\n",
    "    else:\n",
    "        print(\"      *\")\n",
    "    x=x-1"
   ]
  },
  {
   "cell_type": "code",
   "execution_count": 48,
   "id": "e58e58d0",
   "metadata": {},
   "outputs": [
    {
     "name": "stdout",
     "output_type": "stream",
     "text": [
      " ***** \n",
      "  **** \n",
      "   ***\n",
      "    **\n",
      "     *\n"
     ]
    }
   ],
   "source": [
    "x=5\n",
    "while x>=1:\n",
    "    if x==5:\n",
    "        print(\" ***** \")\n",
    "    elif x==4:\n",
    "        print(\"  **** \")\n",
    "    elif x==3:\n",
    "        print(\"   ***\")\n",
    "    elif x==2:\n",
    "        print(\"    **\")\n",
    "    else:\n",
    "        print(\"     *\")\n",
    "    x=x-1"
   ]
  },
  {
   "cell_type": "code",
   "execution_count": 49,
   "id": "13d344a1",
   "metadata": {},
   "outputs": [
    {
     "name": "stdout",
     "output_type": "stream",
     "text": [
      "      *\n",
      "     * *\n",
      "    * * *\n",
      "   * * * *\n",
      "  * * * * *\n",
      " * * * * * * \n",
      "* * * * * * *\n"
     ]
    }
   ],
   "source": [
    "x=7\n",
    "while x>=1:\n",
    "    if x==7:\n",
    "        print(\"      *\")\n",
    "    elif x==6:\n",
    "        print(\"     * *\")\n",
    "    elif x==5:\n",
    "        print(\"    * * *\")\n",
    "    elif x==4:\n",
    "        print(\"   * * * *\")\n",
    "    elif x==3:\n",
    "        print(\"  * * * * *\")\n",
    "    elif x==2:\n",
    "        print(\" * * * * * * \")\n",
    "    else:\n",
    "        print(\"* * * * * * *\")\n",
    "    x=x-1"
   ]
  },
  {
   "cell_type": "code",
   "execution_count": 52,
   "id": "76c83834",
   "metadata": {},
   "outputs": [
    {
     "name": "stdout",
     "output_type": "stream",
     "text": [
      "*\n",
      "* *\n",
      "* * *\n",
      "* * * *\n",
      "* * * * *\n",
      "* * * * * *\n",
      " \n",
      "* * * * * * \n",
      "* * * * *\n",
      "* * * *\n",
      "* * *\n",
      "* *\n",
      "*\n"
     ]
    }
   ],
   "source": [
    "x=13\n",
    "while x>=1:\n",
    "    if x==13:\n",
    "        print(\"*\")\n",
    "    elif x==12:\n",
    "        print(\"* *\")\n",
    "    elif x==11:\n",
    "        print(\"* * *\")\n",
    "    elif x==10:\n",
    "        print(\"* * * *\")\n",
    "    elif x==9:\n",
    "        print(\"* * * * *\")\n",
    "    elif x==8:\n",
    "        print(\"* * * * * *\")\n",
    "    elif x==7:\n",
    "        print(\" \")\n",
    "    elif x==6:\n",
    "        print(\"* * * * * * \")\n",
    "    elif x==5:\n",
    "        print(\"* * * * *\")\n",
    "    elif x==4:\n",
    "         print(\"* * * *\")\n",
    "    elif x==3:\n",
    "        print(\"* * *\")\n",
    "    elif x==2:\n",
    "        print(\"* *\")\n",
    "    else:\n",
    "        print(\"*\")\n",
    "    \n",
    "    x=x-1"
   ]
  },
  {
   "cell_type": "code",
   "execution_count": 53,
   "id": "81da6890",
   "metadata": {},
   "outputs": [
    {
     "name": "stdout",
     "output_type": "stream",
     "text": [
      "*\n",
      "* *\n",
      "* * *\n",
      "* * * *\n",
      "* * * * *\n",
      "* * * *\n",
      "* * *\n",
      "* *\n",
      "*\n"
     ]
    }
   ],
   "source": [
    "x=9\n",
    "while x>=1:\n",
    "    if x==9:\n",
    "        print(\"*\")\n",
    "    elif x==8:\n",
    "        print(\"* *\")\n",
    "    elif x==7:\n",
    "        print(\"* * *\")\n",
    "    elif x==6:\n",
    "        print(\"* * * *\")\n",
    "    elif x==5:\n",
    "        print(\"* * * * *\")\n",
    "    elif x==4:\n",
    "         print(\"* * * *\")\n",
    "    elif x==3:\n",
    "        print(\"* * *\")\n",
    "    elif x==2:\n",
    "        print(\"* *\")\n",
    "    else:\n",
    "        print(\"*\")\n",
    "    \n",
    "    x=x-1"
   ]
  },
  {
   "cell_type": "code",
   "execution_count": 55,
   "id": "b2d033f5",
   "metadata": {},
   "outputs": [
    {
     "name": "stdout",
     "output_type": "stream",
     "text": [
      "        *\n",
      "      * *\n",
      "    * * *\n",
      "  * * * *\n",
      "* * * * *\n",
      "  * * * *\n",
      "    * * *\n",
      "      * *\n",
      "        *\n"
     ]
    }
   ],
   "source": [
    "x=9\n",
    "while x>=1:\n",
    "    if x==9:\n",
    "        print(\"        *\")\n",
    "    elif x==8:\n",
    "        print(\"      * *\")\n",
    "    elif x==7:\n",
    "        print(\"    * * *\")\n",
    "    elif x==6:\n",
    "        print(\"  * * * *\")\n",
    "    elif x==5:\n",
    "        print(\"* * * * *\")\n",
    "    elif x==4:\n",
    "         print(\"  * * * *\")\n",
    "    elif x==3:\n",
    "        print(\"    * * *\")\n",
    "    elif x==2:\n",
    "        print(\"      * *\")\n",
    "    else:\n",
    "        print(\"        *\")\n",
    "    \n",
    "    x=x-1"
   ]
  },
  {
   "cell_type": "code",
   "execution_count": 62,
   "id": "55863b07",
   "metadata": {},
   "outputs": [
    {
     "name": "stdout",
     "output_type": "stream",
     "text": [
      "* * * * *\n",
      " * * * * \n",
      "  * * *  \n",
      "   * *  \n",
      "    *   \n",
      "    *   \n",
      "   * *  \n",
      "  * * *\n",
      " * * * *\n",
      "* * * * *\n"
     ]
    }
   ],
   "source": [
    "x=10\n",
    "while x>=1:\n",
    "    if x==10:\n",
    "        print(\"* * * * *\")\n",
    "    elif x==9:\n",
    "        print(\" * * * * \")\n",
    "    elif x==8:\n",
    "        print(\"  * * *  \")\n",
    "    elif x==7:\n",
    "        print(\"   * *  \")\n",
    "    elif x==6:\n",
    "        print(\"    *   \")\n",
    "    elif x==5:\n",
    "         print(\"   *   \")\n",
    "    elif x==4:\n",
    "        print(\"   * *  \")\n",
    "    elif x==3:\n",
    "        print(\"  * * *\")\n",
    "    elif x==2:\n",
    "        print(\" * * * *\")\n",
    "    else:\n",
    "        print(\"* * * * *\")\n",
    "    \n",
    "    x=x-1"
   ]
  },
  {
   "cell_type": "code",
   "execution_count": 60,
   "id": "a354c870",
   "metadata": {},
   "outputs": [
    {
     "name": "stdout",
     "output_type": "stream",
     "text": [
      "     *\n",
      "    * *\n",
      "   * * *\n",
      "  * * * *\n",
      " * * * * *\n",
      "* * * * * *\n",
      " * * * * *\n",
      "  * * * *\n",
      "   * * *\n",
      "    * *\n",
      "     *\n"
     ]
    }
   ],
   "source": [
    "x=11\n",
    "while x>=1:\n",
    "    if x==11:\n",
    "        print(\"     *\")\n",
    "    elif x==10:\n",
    "        print(\"    * *\")\n",
    "    elif x==9:\n",
    "        print(\"   * * *\")\n",
    "    elif x==8:\n",
    "        print(\"  * * * *\")\n",
    "    elif x==7:\n",
    "        print(\" * * * * *\")\n",
    "    elif x==6:\n",
    "        print(\"* * * * * *\")\n",
    "    elif x==5:\n",
    "        print(\" * * * * *\")\n",
    "    elif x==4:\n",
    "         print(\"  * * * *\")\n",
    "    elif x==3:\n",
    "        print(\"   * * *\")\n",
    "    elif x==2:\n",
    "        print(\"    * *\")\n",
    "    else:\n",
    "        print(\"     *\")\n",
    "    x-=1"
   ]
  },
  {
   "cell_type": "code",
   "execution_count": null,
   "id": "bc736509",
   "metadata": {},
   "outputs": [],
   "source": [
    "x=11\n",
    "while x>=1:\n",
    "    if x==11:\n",
    "        print(\"     *\")\n",
    "    elif x==10:\n",
    "        print(\"    * *\")\n",
    "    elif x==9:\n",
    "        print(\"   *   *\")\n",
    "    elif x==8:\n",
    "        print(\"  *     *\")\n",
    "    elif x==7:\n",
    "        print(\" *       *\")\n",
    "    elif x==6:\n",
    "        print(\"*         *\")\n",
    "    elif x==5:\n",
    "        print(\" *       *\")\n",
    "    elif x==4:\n",
    "         print(\"  *     *\")\n",
    "    elif x==3:\n",
    "        print(\"   *   *\")\n",
    "    elif x==2:\n",
    "        print(\"    * *\")\n",
    "    else:\n",
    "        print(\"     *\")\n",
    "    x-=1"
   ]
  },
  {
   "cell_type": "code",
   "execution_count": null,
   "id": "bf72cb4e",
   "metadata": {},
   "outputs": [],
   "source": []
  }
 ],
 "metadata": {
  "kernelspec": {
   "display_name": "Python 3 (ipykernel)",
   "language": "python",
   "name": "python3"
  },
  "language_info": {
   "codemirror_mode": {
    "name": "ipython",
    "version": 3
   },
   "file_extension": ".py",
   "mimetype": "text/x-python",
   "name": "python",
   "nbconvert_exporter": "python",
   "pygments_lexer": "ipython3",
   "version": "3.10.9"
  }
 },
 "nbformat": 4,
 "nbformat_minor": 5
}
