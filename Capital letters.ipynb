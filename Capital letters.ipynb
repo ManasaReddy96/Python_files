{
 "cells": [
  {
   "cell_type": "code",
   "execution_count": 2,
   "id": "15eb5178",
   "metadata": {},
   "outputs": [
    {
     "name": "stdout",
     "output_type": "stream",
     "text": [
      " *** \n",
      "*   *\n",
      "*****\n",
      "*   *\n",
      "*   *\n"
     ]
    }
   ],
   "source": [
    "x=1\n",
    "while x<=5:\n",
    "    if x==1:\n",
    "        print(\" *** \")\n",
    "    elif x==2 or x==4 or x==5:\n",
    "        print(\"*   *\")\n",
    "    else:\n",
    "        print(\"*****\")\n",
    "    x+=1\n",
    "        "
   ]
  },
  {
   "cell_type": "code",
   "execution_count": 13,
   "id": "1fbaba95",
   "metadata": {},
   "outputs": [
    {
     "name": "stdout",
     "output_type": "stream",
     "text": [
      "****\n",
      "*   *\n",
      "**** \n",
      "*   *\n",
      "****\n"
     ]
    }
   ],
   "source": [
    "x=1\n",
    "while x<=5:\n",
    "    if x==1 or x==5: \n",
    "        print(\"****\")\n",
    "    elif x==2 or x==4:\n",
    "        print(\"*   *\")\n",
    "    else:\n",
    "        print(\"**** \")\n",
    "    x=x+1\n",
    "        "
   ]
  },
  {
   "cell_type": "code",
   "execution_count": 58,
   "id": "0a6181b4",
   "metadata": {},
   "outputs": [
    {
     "name": "stdout",
     "output_type": "stream",
     "text": [
      " ****\n",
      "*   \n",
      "*   \n",
      "*   \n",
      " ****\n"
     ]
    }
   ],
   "source": [
    "x=1\n",
    "while x<=5:\n",
    "    if x==1 or x==5: \n",
    "        print(\" ****\")\n",
    "    else:\n",
    "        print(\"*   \")\n",
    "   \n",
    "    x=x+1"
   ]
  },
  {
   "cell_type": "code",
   "execution_count": 16,
   "id": "6705870f",
   "metadata": {},
   "outputs": [
    {
     "name": "stdout",
     "output_type": "stream",
     "text": [
      "****\n",
      "*    *\n",
      "*     *\n",
      "*    *\n",
      "****\n"
     ]
    }
   ],
   "source": [
    "x=1\n",
    "while x<=5:\n",
    "    if x==1 or x==5: \n",
    "        print(\"****\")\n",
    "    elif x==2 or x==4:\n",
    "        print(\"*    *\")\n",
    "    else:\n",
    "        print(\"*     *\")\n",
    "    x=x+1"
   ]
  },
  {
   "cell_type": "code",
   "execution_count": 18,
   "id": "9487d170",
   "metadata": {},
   "outputs": [
    {
     "name": "stdout",
     "output_type": "stream",
     "text": [
      "*****\n",
      "*   \n",
      "*****\n",
      "*   \n",
      "*****\n"
     ]
    }
   ],
   "source": [
    "x=1\n",
    "while x<=5:\n",
    "    if x==1 or x==3 or x==5: \n",
    "        print(\"*****\")\n",
    "    else:\n",
    "        print(\"*   \")\n",
    "    \n",
    "    x=x+1"
   ]
  },
  {
   "cell_type": "code",
   "execution_count": 20,
   "id": "113d0a00",
   "metadata": {},
   "outputs": [
    {
     "name": "stdout",
     "output_type": "stream",
     "text": [
      "*****\n",
      "*\n",
      "*****\n",
      "*\n",
      "*\n"
     ]
    }
   ],
   "source": [
    "x=1\n",
    "while x<=5:\n",
    "    if x==1 or x==3: \n",
    "        print(\"*****\")\n",
    "\n",
    "    else:\n",
    "        print(\"*\")\n",
    "    x=x+1"
   ]
  },
  {
   "cell_type": "code",
   "execution_count": 171,
   "id": "4bb756b2",
   "metadata": {},
   "outputs": [
    {
     "name": "stdout",
     "output_type": "stream",
     "text": [
      " * * * \n",
      "*    \n",
      "*  * *** \n",
      "*   *  *\n",
      " *  *  *\n",
      "       *\n"
     ]
    }
   ],
   "source": [
    "x=1\n",
    "while x<=6:\n",
    "    if x==1: \n",
    "        print(\" * * * \")\n",
    "    elif x==2:\n",
    "        print(\"*    \")\n",
    "    elif x==3:\n",
    "        print(\"*  * *** \")\n",
    "    elif x==4:\n",
    "        print(\"*   *  *\")\n",
    "    elif x==5:\n",
    "        print(\" *  *  *\")\n",
    "    else:\n",
    "        print(\"       *\")\n",
    "    x=x+1"
   ]
  },
  {
   "cell_type": "code",
   "execution_count": 80,
   "id": "4ac42b14",
   "metadata": {},
   "outputs": [
    {
     "name": "stdout",
     "output_type": "stream",
     "text": [
      "*       *\n",
      "*       *\n",
      "* * * * *\n",
      "*       *\n",
      "*       *\n"
     ]
    }
   ],
   "source": [
    "x=1\n",
    "while x<=5:\n",
    "    \n",
    "    if x==1 or x==2 or x==4 or x==5:\n",
    "        print(\"*       *\")\n",
    "    else: \n",
    "        print(\"* * * * *\")\n",
    "    x+=1\n",
    "        "
   ]
  },
  {
   "cell_type": "code",
   "execution_count": 81,
   "id": "7cfad84e",
   "metadata": {},
   "outputs": [
    {
     "name": "stdout",
     "output_type": "stream",
     "text": [
      "* * * * *\n",
      "    *  \n",
      "    *  \n",
      "    *  \n",
      "* * * * *\n"
     ]
    }
   ],
   "source": [
    "x=1\n",
    "while x<=5:\n",
    "    if x==1 or x==5:\n",
    "        print(\"* * * * *\")\n",
    "    else:\n",
    "        print(\"    *  \")\n",
    "    x+=1\n",
    "        "
   ]
  },
  {
   "cell_type": "code",
   "execution_count": 86,
   "id": "094bc28e",
   "metadata": {},
   "outputs": [
    {
     "name": "stdout",
     "output_type": "stream",
     "text": [
      "* * * * *\n",
      "    *  \n",
      "    *  \n",
      "*   *\n",
      "  **\n"
     ]
    }
   ],
   "source": [
    "x=1\n",
    "while x<=5:\n",
    "    if x==1:\n",
    "        print(\"* * * * *\")\n",
    "    elif x==2  or x==3:\n",
    "        print(\"    *  \")\n",
    "    elif x==4:\n",
    "        print(\"*   *\")\n",
    "    else:\n",
    "        print(\"  **\")\n",
    "    x+=1"
   ]
  },
  {
   "cell_type": "code",
   "execution_count": 87,
   "id": "af279522",
   "metadata": {},
   "outputs": [
    {
     "name": "stdout",
     "output_type": "stream",
     "text": [
      "*    *\n",
      "*  * \n",
      "**\n",
      "*  * \n",
      "*    *\n"
     ]
    }
   ],
   "source": [
    "x=1\n",
    "while x<=5:\n",
    "    if x==1 or x==5:\n",
    "        print(\"*    *\")\n",
    "    elif x==2  or x==4:\n",
    "        print(\"*  * \")\n",
    "    \n",
    "    else:\n",
    "        print(\"**\")\n",
    "    x+=1"
   ]
  },
  {
   "cell_type": "code",
   "execution_count": 90,
   "id": "9e2cdd75",
   "metadata": {},
   "outputs": [
    {
     "name": "stdout",
     "output_type": "stream",
     "text": [
      "*\n",
      "*\n",
      "*\n",
      "*\n",
      "* * * * \n"
     ]
    }
   ],
   "source": [
    "x=1\n",
    "while x<=5:\n",
    "    if x==1 or x==2 or x==3 or x==4:\n",
    "        print(\"*\")\n",
    "    else: \n",
    "        print(\"* * * * \")\n",
    "    \n",
    "    x+=1"
   ]
  },
  {
   "cell_type": "code",
   "execution_count": 47,
   "id": "8863476b",
   "metadata": {},
   "outputs": [
    {
     "name": "stdout",
     "output_type": "stream",
     "text": [
      "*      *\n",
      "* *  * *\n",
      "*  *   *\n",
      "*      *\n",
      "*      *\n"
     ]
    }
   ],
   "source": [
    "x=1\n",
    "while x<=5:\n",
    "    if x==1 or x==4 or x==5:\n",
    "        print(\"*      *\")\n",
    "    elif x==2:\n",
    "        print(\"* *  * *\")\n",
    "    else:\n",
    "        print(\"*  *   *\")\n",
    "    \n",
    "    x+=1"
   ]
  },
  {
   "cell_type": "code",
   "execution_count": 88,
   "id": "20d667d8",
   "metadata": {},
   "outputs": [
    {
     "name": "stdout",
     "output_type": "stream",
     "text": [
      "*       *\n",
      "* *     *\n",
      "*   *   *\n",
      "*     * *\n",
      "*       *\n"
     ]
    }
   ],
   "source": [
    "x=1\n",
    "while x<=5:\n",
    "    if x==1 or x==5:\n",
    "        print(\"*       *\")\n",
    "    elif x==2:\n",
    "        print(\"* *     *\")\n",
    "    elif x==3:\n",
    "        print(\"*   *   *\")\n",
    "    elif x==4:\n",
    "        print(\"*     * *\")\n",
    "    else:\n",
    "        print(\"*       *\")\n",
    "    \n",
    "    x+=1"
   ]
  },
  {
   "cell_type": "code",
   "execution_count": 55,
   "id": "4218df38",
   "metadata": {},
   "outputs": [
    {
     "name": "stdout",
     "output_type": "stream",
     "text": [
      "  * * *  \n",
      "*       *\n",
      "*       *\n",
      "*       *\n",
      "  * * *  \n"
     ]
    }
   ],
   "source": [
    "x=1\n",
    "while x<=5:\n",
    "    if x==1 or x==5: \n",
    "        print(\"  * * *  \")\n",
    "    else:\n",
    "        print(\"*       *\")\n",
    "   \n",
    "    x=x+1"
   ]
  },
  {
   "cell_type": "code",
   "execution_count": 60,
   "id": "ea51d42f",
   "metadata": {},
   "outputs": [
    {
     "name": "stdout",
     "output_type": "stream",
     "text": [
      "* * *\n",
      "*     *\n",
      "* * *\n",
      "*\n",
      "*\n"
     ]
    }
   ],
   "source": [
    "x=1\n",
    "while x<=5:\n",
    "    \n",
    "    if x==1 or x==3:\n",
    "        print(\"* * *\")\n",
    "    elif x==2:\n",
    "        print(\"*     *\")\n",
    "    elif x==4 or x==5:\n",
    "        print(\"*\")\n",
    "    else: \n",
    "        print(\"*   *\")\n",
    "    x+=1"
   ]
  },
  {
   "cell_type": "code",
   "execution_count": 112,
   "id": "32724562",
   "metadata": {},
   "outputs": [
    {
     "name": "stdout",
     "output_type": "stream",
     "text": [
      "  * * * \n",
      "*       *\n",
      "*       *\n",
      "*   *   *\n",
      "*     * *\n",
      "  * * *  \n",
      "         *\n"
     ]
    }
   ],
   "source": [
    "x = 1\n",
    "while  x<=7:\n",
    "    if x==1:\n",
    "        print(\"  * * * \")\n",
    "    elif x==2 or x==3:  \n",
    "        print(\"*       *\")\n",
    "    elif x==4:\n",
    "        print(\"*   *   *\")\n",
    "    elif x==5:\n",
    "        print(\"*     * *\")\n",
    "    elif x==6:\n",
    "        print(\"  * * *  \")\n",
    "    else:\n",
    "        print(\"         *\")\n",
    "    x+=1"
   ]
  },
  {
   "cell_type": "code",
   "execution_count": 78,
   "id": "2eafbf6c",
   "metadata": {},
   "outputs": [
    {
     "name": "stdout",
     "output_type": "stream",
     "text": [
      "* * *\n",
      "*     *\n",
      "* * *\n",
      "*     *\n",
      "*      *\n"
     ]
    }
   ],
   "source": [
    "x=1\n",
    "while x<=5:\n",
    "    \n",
    "    if x==1 or x==3:\n",
    "        print(\"* * *\")\n",
    "    elif x==2 or x==4:\n",
    "        print(\"*     *\")\n",
    "\n",
    "    \n",
    "    else: \n",
    "        print(\"*      *\")\n",
    "    x+=1"
   ]
  },
  {
   "cell_type": "code",
   "execution_count": 104,
   "id": "e19c1ed9",
   "metadata": {},
   "outputs": [
    {
     "name": "stdout",
     "output_type": "stream",
     "text": [
      "  * * * \n",
      "*       *\n",
      "*   \n",
      " *  * *\n",
      "        *\n",
      "*       *\n",
      "  * * * \n"
     ]
    }
   ],
   "source": [
    "x=1\n",
    "while x<=7:\n",
    "    \n",
    "    if x==1 or x==7:\n",
    "        print(\"  * * * \")\n",
    "    elif x==2 or x==6 :\n",
    "        print(\"*       *\")\n",
    "    \n",
    "    elif x==4:\n",
    "        print(\" *  * *\")\n",
    "    elif x==5:\n",
    "        print(\"        *\")\n",
    "   \n",
    "    else: \n",
    "        print(\"*   \")\n",
    "    x+=1"
   ]
  },
  {
   "cell_type": "code",
   "execution_count": 113,
   "id": "0f3d929a",
   "metadata": {},
   "outputs": [
    {
     "name": "stdout",
     "output_type": "stream",
     "text": [
      "* * * * *\n",
      "    *  \n",
      "    *  \n",
      "    *  \n",
      "    *  \n"
     ]
    }
   ],
   "source": [
    "x=1\n",
    "while x<=5:\n",
    "    if x==1 :\n",
    "        print(\"* * * * *\")\n",
    "    else:\n",
    "        print(\"    *  \")\n",
    "    x+=1\n",
    "        "
   ]
  },
  {
   "cell_type": "code",
   "execution_count": 116,
   "id": "e58d25b5",
   "metadata": {},
   "outputs": [
    {
     "name": "stdout",
     "output_type": "stream",
     "text": [
      "*       *\n",
      "*       *\n",
      "*       *\n",
      "*       *\n",
      " *  *  * \n"
     ]
    }
   ],
   "source": [
    "x=1\n",
    "while x<=5:\n",
    "    if x==1 or x==2 or x==3 or x==4: \n",
    "        print(\"*       *\")\n",
    "    else:\n",
    "        print(\" *  *  * \")\n",
    "   \n",
    "    x=x+1"
   ]
  },
  {
   "cell_type": "code",
   "execution_count": 150,
   "id": "07fe6af5",
   "metadata": {},
   "outputs": [
    {
     "name": "stdout",
     "output_type": "stream",
     "text": [
      "*           *\n",
      "  *       *\n",
      "    *   *\n",
      "      *  \n"
     ]
    }
   ],
   "source": [
    "x=1\n",
    "while x<=4:\n",
    "    if x==1:\n",
    "        print(\"*           *\")\n",
    "    elif x==2:\n",
    "        print(\"  *       *\")\n",
    "    elif x==3:\n",
    "        print(\"    *   *\")\n",
    "    \n",
    "    else:\n",
    "        print(\"      *  \")\n",
    "   \n",
    "    x=x+1"
   ]
  },
  {
   "cell_type": "code",
   "execution_count": 152,
   "id": "76106770",
   "metadata": {},
   "outputs": [
    {
     "name": "stdout",
     "output_type": "stream",
     "text": [
      "*      *\n",
      "*      *\n",
      "*  *   *\n",
      "* *  * *\n",
      "*      *\n"
     ]
    }
   ],
   "source": [
    "x=1\n",
    "while x<=5:\n",
    "    if x==1 or x==2 or x==5:\n",
    "        print(\"*      *\")\n",
    "    elif x==4:\n",
    "        print(\"* *  * *\")\n",
    "    else:\n",
    "        print(\"*  *   *\")\n",
    "    \n",
    "    x+=1"
   ]
  },
  {
   "cell_type": "code",
   "execution_count": 160,
   "id": "3c4f8226",
   "metadata": {},
   "outputs": [
    {
     "name": "stdout",
     "output_type": "stream",
     "text": [
      "*         *\n",
      "   *   *  \n",
      "     *     \n",
      "   *   *  \n",
      "*         *\n"
     ]
    }
   ],
   "source": [
    "x=1\n",
    "while x<=5:\n",
    "    if x==1 or x==5:\n",
    "        print(\"*         *\")\n",
    "    elif x==2 or x==4:\n",
    "        print(\"   *   *  \")\n",
    "    else:\n",
    "        print(\"     *     \")\n",
    "    \n",
    "\n",
    "   \n",
    "    x=x+1"
   ]
  },
  {
   "cell_type": "code",
   "execution_count": 153,
   "id": "705df84b",
   "metadata": {},
   "outputs": [
    {
     "name": "stdout",
     "output_type": "stream",
     "text": [
      "*           *\n",
      "  *       *\n",
      "    *   *\n",
      "      *  \n",
      "      *  \n",
      "      *  \n"
     ]
    }
   ],
   "source": [
    "x=1\n",
    "while x<=6:\n",
    "    if x==1:\n",
    "        print(\"*           *\")\n",
    "    elif x==2:\n",
    "        print(\"  *       *\")\n",
    "    elif x==3:\n",
    "        print(\"    *   *\")\n",
    "    \n",
    "    else:\n",
    "        print(\"      *  \")\n",
    "   \n",
    "    x=x+1"
   ]
  },
  {
   "cell_type": "code",
   "execution_count": 164,
   "id": "2628cd50",
   "metadata": {},
   "outputs": [
    {
     "name": "stdout",
     "output_type": "stream",
     "text": [
      "* * * * *\n",
      "      *\n",
      "    *  \n",
      "  * \n",
      "* * * * *\n"
     ]
    }
   ],
   "source": [
    "x=1\n",
    "while x<=5:\n",
    "    if x==1 or x==5:\n",
    "        print(\"* * * * *\")\n",
    "    elif x==2:\n",
    "        print(\"      *\")\n",
    "    elif x==4:\n",
    "        print(\"  * \")\n",
    "    else:\n",
    "        print(\"    *  \")\n",
    "    x+=1"
   ]
  },
  {
   "cell_type": "code",
   "execution_count": null,
   "id": "425a4dec",
   "metadata": {},
   "outputs": [],
   "source": []
  }
 ],
 "metadata": {
  "kernelspec": {
   "display_name": "Python 3 (ipykernel)",
   "language": "python",
   "name": "python3"
  },
  "language_info": {
   "codemirror_mode": {
    "name": "ipython",
    "version": 3
   },
   "file_extension": ".py",
   "mimetype": "text/x-python",
   "name": "python",
   "nbconvert_exporter": "python",
   "pygments_lexer": "ipython3",
   "version": "3.10.9"
  }
 },
 "nbformat": 4,
 "nbformat_minor": 5
}
