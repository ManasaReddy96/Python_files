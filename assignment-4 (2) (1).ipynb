{
 "cells": [
  {
   "cell_type": "code",
   "execution_count": 1,
   "id": "1314c418",
   "metadata": {},
   "outputs": [],
   "source": [
    "# Write a program to accept two numbers from the user and calculate multiplication, division\n"
   ]
  },
  {
   "cell_type": "code",
   "execution_count": 1,
   "id": "1098d5c0",
   "metadata": {},
   "outputs": [
    {
     "name": "stdout",
     "output_type": "stream",
     "text": [
      "Enter to start c or to off q: c\n",
      "Enter number: 23\n",
      "Enter symbol from *,/: *\n",
      "Enter number: 2\n",
      "23*2=46\n",
      "Enter to start c or to off q: c\n",
      "Enter number: 2631\n",
      "Enter symbol from *,/: +\n",
      "Enter number: 21\n",
      "Invalid Entry!!\n",
      "Enter to start c or to off q: q\n"
     ]
    }
   ],
   "source": [
    "x=1\n",
    "while x==1:\n",
    "    off= input(\"Enter to start c or to off q: \")\n",
    "    if off==\"q\":\n",
    "        break\n",
    "    else:\n",
    "        number1 = int(input(\"Enter number: \"))\n",
    "        symbol = input(\"Enter symbol from *,/: \")\n",
    "        number2 = int(input(\"Enter number: \"))\n",
    "        \n",
    "        if symbol==\"*\":\n",
    "            print(\"{}*{}={}\".format(number1,number2,number1*number2))\n",
    "        elif symbol==\"/\":\n",
    "            print(\"{}/{}={}\".format(number1,number2,number1/number2))\n",
    "        else:\n",
    "            print(\"Invalid Entry!!\")\n",
    "        \n",
    "\n",
    "\n",
    "            "
   ]
  },
  {
   "cell_type": "code",
   "execution_count": null,
   "id": "c79dd652",
   "metadata": {},
   "outputs": [],
   "source": [
    "# Write a python program to print the characters from a string that are present at an even index "
   ]
  },
  {
   "cell_type": "code",
   "execution_count": 11,
   "id": "8d0673a4",
   "metadata": {},
   "outputs": [
    {
     "name": "stdout",
     "output_type": "stream",
     "text": [
      "Enter the string: abcdefgh\n",
      " aceg\n"
     ]
    }
   ],
   "source": [
    "string=input(\"Enter the string: \")\n",
    "even=\" \"\n",
    "\n",
    "for _ in (range(len(string))):\n",
    "    if _ %2==0:\n",
    "        even+=string[_]\n",
    "print(even) "
   ]
  },
  {
   "cell_type": "code",
   "execution_count": 12,
   "id": "acecc154",
   "metadata": {},
   "outputs": [
    {
     "data": {
      "text/plain": [
       "' aceg'"
      ]
     },
     "execution_count": 12,
     "metadata": {},
     "output_type": "execute_result"
    }
   ],
   "source": [
    "even"
   ]
  },
  {
   "cell_type": "code",
   "execution_count": 30,
   "id": "3892d6e3",
   "metadata": {},
   "outputs": [
    {
     "name": "stdout",
     "output_type": "stream",
     "text": [
      " acegikmoqsuwy\n"
     ]
    }
   ],
   "source": [
    "alphabets=\"abcdefghijklmnopqrstuvwxyz\"\n",
    "even_char = \" \"\n",
    "\n",
    "for x in range(len(alphabets)):\n",
    "    if x%2==0:\n",
    "        even_char+=alphabets[x]\n",
    "print(even_char)"
   ]
  },
  {
   "cell_type": "code",
   "execution_count": 35,
   "id": "9c6269a3",
   "metadata": {},
   "outputs": [
    {
     "data": {
      "text/plain": [
       "' acegikmoqsuwy'"
      ]
     },
     "execution_count": 35,
     "metadata": {},
     "output_type": "execute_result"
    }
   ],
   "source": [
    "even_char"
   ]
  },
  {
   "cell_type": "code",
   "execution_count": 36,
   "id": "6801fde5",
   "metadata": {},
   "outputs": [],
   "source": [
    "# Write a python program to print the characters from a string that are present at an odd index\n"
   ]
  },
  {
   "cell_type": "code",
   "execution_count": 13,
   "id": "49f3933c",
   "metadata": {},
   "outputs": [
    {
     "name": "stdout",
     "output_type": "stream",
     "text": [
      "enter the string: notebook\n",
      " oeok\n"
     ]
    }
   ],
   "source": [
    "string= input(\"enter the string: \")\n",
    "odd=\" \"\n",
    "\n",
    "for _ in (range(len(string))):\n",
    "    if _ %2!=0:\n",
    "        odd+=string[_]\n",
    "print(odd)"
   ]
  },
  {
   "cell_type": "code",
   "execution_count": 14,
   "id": "9840b92f",
   "metadata": {},
   "outputs": [
    {
     "data": {
      "text/plain": [
       "' oeok'"
      ]
     },
     "execution_count": 14,
     "metadata": {},
     "output_type": "execute_result"
    }
   ],
   "source": [
    "odd"
   ]
  },
  {
   "cell_type": "code",
   "execution_count": 33,
   "id": "be86d68c",
   "metadata": {},
   "outputs": [
    {
     "name": "stdout",
     "output_type": "stream",
     "text": [
      " bdfhjlnprtvxz\n"
     ]
    }
   ],
   "source": [
    "alphabets=\"abcdefghijklmnopqrstuvwxyz\"\n",
    "odd_char = \" \"\n",
    "\n",
    "for x in range(len(alphabets)):\n",
    "    if x%2!=0:\n",
    "        odd_char+=alphabets[x]\n",
    "print(odd_char)"
   ]
  },
  {
   "cell_type": "code",
   "execution_count": 34,
   "id": "7d8fe153",
   "metadata": {},
   "outputs": [
    {
     "data": {
      "text/plain": [
       "' bdfhjlnprtvxz'"
      ]
     },
     "execution_count": 34,
     "metadata": {},
     "output_type": "execute_result"
    }
   ],
   "source": [
    "odd_char"
   ]
  },
  {
   "cell_type": "code",
   "execution_count": 15,
   "id": "8abe045d",
   "metadata": {},
   "outputs": [],
   "source": [
    "#  Write a python program which will print the sum of the two numbers if the two numbers are even or it will print the\n",
    "# difference of two numbers\n"
   ]
  },
  {
   "cell_type": "code",
   "execution_count": 2,
   "id": "cd1d5873",
   "metadata": {},
   "outputs": [
    {
     "name": "stdout",
     "output_type": "stream",
     "text": [
      "Enter to start c or to off q: c\n",
      "Enter the value: 20\n",
      "Enter the value: 1\n",
      "20-1=19\n",
      "Enter to start c or to off q: c\n",
      "Enter the value: 22\n",
      "Enter the value: 6\n",
      "22+6=28\n",
      "Enter to start c or to off q: q\n"
     ]
    }
   ],
   "source": [
    "x=1\n",
    "while x==1:\n",
    "    off= input(\"Enter to start c or to off q: \")\n",
    "    if off==\"q\":\n",
    "        break\n",
    "    else:\n",
    "        num1= int(input(\"Enter the value: \"))\n",
    "        num2= int(input(\"Enter the value: \"))\n",
    "\n",
    "        if num1%2==0 and num2%2==0:\n",
    "            print(\"{}+{}={}\".format(num1,num2,num1+num2))\n",
    "        else:\n",
    "            print(\"{}-{}={}\".format(num1,num2,num1-num2))\n",
    "    \n"
   ]
  },
  {
   "cell_type": "code",
   "execution_count": 3,
   "id": "d9bd8c7a",
   "metadata": {},
   "outputs": [],
   "source": [
    "def number(num1,num2):\n",
    "    if (num1+num2%2==0):\n",
    "        print(num1+num2)\n",
    "    else:\n",
    "        print(num1-num2)"
   ]
  },
  {
   "cell_type": "code",
   "execution_count": 4,
   "id": "354d3ba7",
   "metadata": {},
   "outputs": [
    {
     "name": "stdout",
     "output_type": "stream",
     "text": [
      "-1\n"
     ]
    }
   ],
   "source": [
    "number(2,3)"
   ]
  },
  {
   "cell_type": "code",
   "execution_count": 5,
   "id": "fcf6e7a0",
   "metadata": {},
   "outputs": [],
   "source": [
    "# 5) Write a python program to convert all even indexed alphabets to upper and odd indexed char\n",
    "\n"
   ]
  },
  {
   "cell_type": "code",
   "execution_count": 28,
   "id": "0e0b7c82",
   "metadata": {},
   "outputs": [
    {
     "name": "stdout",
     "output_type": "stream",
     "text": [
      "enter the string: manasa\n",
      "MaNaSa\n"
     ]
    }
   ],
   "source": [
    "string= input(\"enter the string: \")\n",
    "result=\"\"\n",
    "\n",
    "\n",
    "for _ in range(len(string)):\n",
    "    if _ %2==0:\n",
    "        result+=string[_].upper()\n",
    "    else:\n",
    "        result+=string[_].lower()\n",
    "print(result)"
   ]
  },
  {
   "cell_type": "code",
   "execution_count": 29,
   "id": "84dc5784",
   "metadata": {},
   "outputs": [],
   "source": [
    "# Write a python program which will print True if the input number is divisible by 5 or else False\n",
    "\n"
   ]
  },
  {
   "cell_type": "code",
   "execution_count": 2,
   "id": "6d45385c",
   "metadata": {},
   "outputs": [
    {
     "name": "stdout",
     "output_type": "stream",
     "text": [
      "Enter number: 20\n",
      "True\n"
     ]
    }
   ],
   "source": [
    "number = int(input(\"Enter number: \"))\n",
    "\n",
    "\n",
    "if number%5==0:\n",
    "    print(\"True\")\n",
    "else:\n",
    "    print(\"False\")\n",
    "        "
   ]
  },
  {
   "cell_type": "code",
   "execution_count": 4,
   "id": "6b000c42",
   "metadata": {},
   "outputs": [],
   "source": [
    "# 7) Given two integer numbers return their product only if the product is greater than 1000, else return their sum\n"
   ]
  },
  {
   "cell_type": "code",
   "execution_count": 6,
   "id": "01be6148",
   "metadata": {},
   "outputs": [
    {
     "name": "stdout",
     "output_type": "stream",
     "text": [
      "Enter number: 20\n",
      "Enter number: 10\n",
      "20+10=30\n"
     ]
    }
   ],
   "source": [
    "number1 = int(input(\"Enter number: \"))\n",
    "number2 = int(input(\"Enter number: \"))\n",
    "\n",
    "if number1*number2>=1000:\n",
    "    print(\"{}*{}={}\".format(number1,number2,number1*number2))\n",
    "else:\n",
    "    print(\"{}+{}={}\".format(number1,number2,number1+number2))"
   ]
  },
  {
   "cell_type": "code",
   "execution_count": 8,
   "id": "832593b3",
   "metadata": {},
   "outputs": [],
   "source": [
    "# 8) Given two strings x, y writes a program to return a new\n",
    "# string made of x and y’s first, middle, and last characters\n"
   ]
  },
  {
   "cell_type": "code",
   "execution_count": 12,
   "id": "954f032b",
   "metadata": {},
   "outputs": [
    {
     "data": {
      "text/plain": [
       "'pjtvos'"
      ]
     },
     "execution_count": 12,
     "metadata": {},
     "output_type": "execute_result"
    }
   ],
   "source": [
    "X= \"pytho\"\n",
    "Y=\"javas\"\n",
    "X[0:1]+Y[0:1]+X[2:3]+Y[2:3]+X[4:5]+Y[4:5]"
   ]
  },
  {
   "cell_type": "code",
   "execution_count": 21,
   "id": "31520d21",
   "metadata": {},
   "outputs": [],
   "source": [
    "# 9) Write a python program to take three names as input from a user in the single input () function call\n",
    "\n",
    "def name(name1,name2,name3):\n",
    "    print(\"name1:-{}\\n name2:-{}\\n name3:-{}\".format(name1,name2,name3))\n"
   ]
  },
  {
   "cell_type": "code",
   "execution_count": 24,
   "id": "43a92e22",
   "metadata": {},
   "outputs": [
    {
     "name": "stdout",
     "output_type": "stream",
     "text": [
      "name1:-person1\n",
      " name2:-person2\n",
      " name3:-person3\n"
     ]
    }
   ],
   "source": [
    "name(name1=\"person1\",name2=\"person2\",name3=\"person3\")"
   ]
  },
  {
   "cell_type": "code",
   "execution_count": 25,
   "id": "792b778f",
   "metadata": {},
   "outputs": [
    {
     "ename": "SyntaxError",
     "evalue": "invalid syntax (3463689616.py, line 1)",
     "output_type": "error",
     "traceback": [
      "\u001b[1;36m  Cell \u001b[1;32mIn[25], line 1\u001b[1;36m\u001b[0m\n\u001b[1;33m    def name(input(*name)):\u001b[0m\n\u001b[1;37m                  ^\u001b[0m\n\u001b[1;31mSyntaxError\u001b[0m\u001b[1;31m:\u001b[0m invalid syntax\n"
     ]
    }
   ],
   "source": [
    "def name(input('Enter a name: ')):\n",
    "    print(\"name1:-{}\\n name2:-{}\\n name3:-{}\".format(name1,name2,name3))\n",
    "    \n",
    "    "
   ]
  },
  {
   "cell_type": "code",
   "execution_count": 23,
   "id": "8eed5105",
   "metadata": {},
   "outputs": [],
   "source": [
    "# 10) Write a Python program to get a string from a given string where all occurrences of its first char have been\n",
    "# changed to '@', except the first char itself. "
   ]
  },
  {
   "cell_type": "code",
   "execution_count": 38,
   "id": "26b0e68e",
   "metadata": {},
   "outputs": [],
   "source": [
    "x=\"malayalam\"\n",
    "x1=x[1:].replace(\"m\",\"@\")"
   ]
  },
  {
   "cell_type": "code",
   "execution_count": 39,
   "id": "575d845c",
   "metadata": {},
   "outputs": [
    {
     "data": {
      "text/plain": [
       "'malayala@'"
      ]
     },
     "execution_count": 39,
     "metadata": {},
     "output_type": "execute_result"
    }
   ],
   "source": [
    "x[0]+x1[0:]"
   ]
  },
  {
   "cell_type": "code",
   "execution_count": 40,
   "id": "fc0f6c95",
   "metadata": {},
   "outputs": [],
   "source": [
    "x='abcabab' \n",
    "x1=x[1:].replace(\"a\",\"@\")"
   ]
  },
  {
   "cell_type": "code",
   "execution_count": 41,
   "id": "e124b74d",
   "metadata": {},
   "outputs": [
    {
     "data": {
      "text/plain": [
       "'bc@b@b'"
      ]
     },
     "execution_count": 41,
     "metadata": {},
     "output_type": "execute_result"
    }
   ],
   "source": [
    "x1"
   ]
  },
  {
   "cell_type": "code",
   "execution_count": 42,
   "id": "47bee17c",
   "metadata": {},
   "outputs": [
    {
     "data": {
      "text/plain": [
       "'abc@b@b'"
      ]
     },
     "execution_count": 42,
     "metadata": {},
     "output_type": "execute_result"
    }
   ],
   "source": [
    "x[0]+x1[0:]"
   ]
  },
  {
   "cell_type": "code",
   "execution_count": 43,
   "id": "c1b3be75",
   "metadata": {},
   "outputs": [],
   "source": [
    "# 11) Write a Python program to add 'ing' at the end of a given\n",
    "# string (string length should be equal to or more than 3). If\n",
    "# the given string already ends with 'ing' then add 'ly' instead.\n",
    "# If the string length of the given string is less than 3, leave it\n",
    "# unchanged"
   ]
  },
  {
   "cell_type": "code",
   "execution_count": 2,
   "id": "74d230db",
   "metadata": {},
   "outputs": [
    {
     "name": "stdout",
     "output_type": "stream",
     "text": [
      "Enter a string: ming\n",
      "mly\n"
     ]
    }
   ],
   "source": [
    "string = input(\"Enter a string: \")\n",
    "\n",
    "if len(string)>=3:\n",
    "    x=string.replace(\"ing\",\"ly\")\n",
    "    print(x)\n",
    "else:\n",
    "    print(string)\n",
    "     \n"
   ]
  },
  {
   "cell_type": "code",
   "execution_count": 44,
   "id": "9de7abfc",
   "metadata": {},
   "outputs": [],
   "source": [
    "#12) Write a python program that accepts two inputs num1 and num2 print True if one of them is 10 or if their sum is 10\n",
    "# otherwise print False"
   ]
  },
  {
   "cell_type": "code",
   "execution_count": 1,
   "id": "fd72540f",
   "metadata": {},
   "outputs": [
    {
     "name": "stdout",
     "output_type": "stream",
     "text": [
      "Enter the value: 2\n",
      "Enter the value: 5\n",
      "False\n"
     ]
    }
   ],
   "source": [
    "num1= int(input(\"Enter the value: \"))\n",
    "num2= int(input(\"Enter the value: \"))\n",
    "\n",
    "if num1+num2==10 or num1==10 or num2==10:\n",
    "    print(\"True\")\n",
    "else:\n",
    "    print(\"False\")"
   ]
  },
  {
   "cell_type": "code",
   "execution_count": 2,
   "id": "71a30aed",
   "metadata": {},
   "outputs": [
    {
     "name": "stdout",
     "output_type": "stream",
     "text": [
      "Enter the value: 8\n",
      "Enter the value: 2\n",
      "True\n"
     ]
    }
   ],
   "source": [
    "num1= int(input(\"Enter the value: \"))\n",
    "num2= int(input(\"Enter the value: \"))\n",
    "\n",
    "if num1+num2==10 or num1==10 or num2==10:\n",
    "    print(\"True\")\n",
    "else:\n",
    "    print(\"False\")"
   ]
  },
  {
   "cell_type": "code",
   "execution_count": 7,
   "id": "eccac37f",
   "metadata": {},
   "outputs": [
    {
     "name": "stdout",
     "output_type": "stream",
     "text": [
      "True\n"
     ]
    }
   ],
   "source": [
    "num1=10\n",
    "num2=0\n",
    "if num1+num2==10 or num1==10 or num2==10:\n",
    "    print(\"True\")\n",
    "else:\n",
    "    print(\"False\")"
   ]
  },
  {
   "cell_type": "code",
   "execution_count": 8,
   "id": "f2c67d4e",
   "metadata": {},
   "outputs": [],
   "source": [
    "# 13) Write a python program that accepts three inputs x, y and z print True if x*y>z otherwise False\n"
   ]
  },
  {
   "cell_type": "code",
   "execution_count": 9,
   "id": "88aee5ab",
   "metadata": {},
   "outputs": [
    {
     "name": "stdout",
     "output_type": "stream",
     "text": [
      "enter the value: 2\n",
      "enter the value: 3\n",
      "enter the value: 4\n",
      "True\n"
     ]
    }
   ],
   "source": [
    "x = int(input(\"enter the value: \"))\n",
    "y = int(input(\"enter the value: \"))\n",
    "z = int(input(\"enter the value: \"))\n",
    "\n",
    "if x*y>z:\n",
    "    print(\"True\")\n",
    "else:\n",
    "    print(\"False\")"
   ]
  },
  {
   "cell_type": "code",
   "execution_count": 10,
   "id": "ea2206b7",
   "metadata": {},
   "outputs": [
    {
     "name": "stdout",
     "output_type": "stream",
     "text": [
      "enter the value: 1\n",
      "enter the value: 2\n",
      "enter the value: 5\n",
      "False\n"
     ]
    }
   ],
   "source": [
    "x = int(input(\"enter the value: \"))\n",
    "y = int(input(\"enter the value: \"))\n",
    "z = int(input(\"enter the value: \"))\n",
    "\n",
    "if x*y>z:\n",
    "    print(\"True\")\n",
    "else:\n",
    "    print(\"False\")"
   ]
  },
  {
   "cell_type": "code",
   "execution_count": 11,
   "id": "57f7e681",
   "metadata": {},
   "outputs": [
    {
     "name": "stdout",
     "output_type": "stream",
     "text": [
      "True\n"
     ]
    }
   ],
   "source": [
    "x = 2\n",
    "y = 5\n",
    "z = 3\n",
    "if x*y>z:\n",
    "    print(\"True\")\n",
    "else:\n",
    "    print(\"False\")\n"
   ]
  },
  {
   "cell_type": "code",
   "execution_count": 12,
   "id": "b8a0e375",
   "metadata": {},
   "outputs": [],
   "source": [
    "# 14) Write a python program that accepts two strings inputs\n",
    "# return True depending on whether the total number of\n",
    "# characters in the first string is equal to the total number of\n",
    "# characters in the second string"
   ]
  },
  {
   "cell_type": "code",
   "execution_count": 13,
   "id": "9c636351",
   "metadata": {},
   "outputs": [
    {
     "name": "stdout",
     "output_type": "stream",
     "text": [
      "Enter the string: abcdef\n",
      "Enter the string: 123456\n",
      "True\n"
     ]
    }
   ],
   "source": [
    "string1=input(\"Enter the string: \")\n",
    "string2=input(\"Enter the string: \")\n",
    "\n",
    "if len(string1)==len(string2):\n",
    "    print(\"True\")\n",
    "else:\n",
    "    print(\"False\")"
   ]
  },
  {
   "cell_type": "code",
   "execution_count": 15,
   "id": "a46d034c",
   "metadata": {},
   "outputs": [
    {
     "name": "stdout",
     "output_type": "stream",
     "text": [
      "False\n"
     ]
    }
   ],
   "source": [
    "string1=\"my name is p1\"\n",
    "string2=\"my name is person2\"\n",
    "\n",
    "if len(string1)==len(string2):\n",
    "    print(\"True\")\n",
    "else:\n",
    "    print(\"False\")"
   ]
  },
  {
   "cell_type": "code",
   "execution_count": 1,
   "id": "85a8f97e",
   "metadata": {},
   "outputs": [],
   "source": [
    "# 15) Write a python program that takes a string input, we'll say that the front is the first three characters of the string.\n",
    "# If the string length is less than three characters, the front is whatever is there. Return a new string,\n",
    "# which is three copies of the front\n"
   ]
  },
  {
   "cell_type": "code",
   "execution_count": 2,
   "id": "d3daeb5d",
   "metadata": {},
   "outputs": [
    {
     "name": "stdout",
     "output_type": "stream",
     "text": [
      "enter a new string: ma\n",
      "mamama\n"
     ]
    }
   ],
   "source": [
    "def string(x):\n",
    "    if len(x)<3:\n",
    "        return x*3\n",
    "    else:\n",
    "        return x[:3]\n",
    "y=input(\"enter a new string: \")\n",
    "result=string(y)\n",
    "print(result)\n"
   ]
  },
  {
   "cell_type": "code",
   "execution_count": null,
   "id": "cf7f115e",
   "metadata": {},
   "outputs": [],
   "source": [
    "# 16) Write a python program that takes in a word and\n",
    "# determines whether or not it is plural. A plural word is one\n",
    "# that ends in \"s"
   ]
  },
  {
   "cell_type": "code",
   "execution_count": 21,
   "id": "5749a288",
   "metadata": {},
   "outputs": [
    {
     "name": "stdout",
     "output_type": "stream",
     "text": [
      "Enter a word: apples\n",
      "plural\n"
     ]
    }
   ],
   "source": [
    "x=input(\"Enter a word: \")\n",
    "\n",
    "if x[-1]==\"s\":\n",
    "    print(\"plural\")\n",
    "else:\n",
    "    print(\"sigular\")"
   ]
  },
  {
   "cell_type": "code",
   "execution_count": 3,
   "id": "1ba8e82f",
   "metadata": {},
   "outputs": [],
   "source": [
    "# 17) A bartender is writing a simple program to determine\n",
    "# whether he should serve drinks to someone. He only serves\n",
    "# drinks to people 18 and older and when he's not on break\n",
    "# (True means break and False means not a break time). Given\n",
    "# the person's age, and whether break time is in session, create\n",
    "# a python program which prints whether he should serve\n",
    "# drinks or not"
   ]
  },
  {
   "cell_type": "code",
   "execution_count": 9,
   "id": "1bb4cfd8",
   "metadata": {},
   "outputs": [
    {
     "name": "stdout",
     "output_type": "stream",
     "text": [
      "Enter age: 21\n",
      "Enter False if servent is in service, otherwise True/: false\n",
      "can serve drink!!!\n"
     ]
    }
   ],
   "source": [
    "age = int(input(\"Enter age: \"))\n",
    "x=input(\"Enter False if servent is in service, otherwise True/: \")\n",
    "if age>=18 and x==\"False\" or x==\"false\":\n",
    "    print(\"can serve drink!!!\")\n",
    "else:\n",
    "    print(\"sorry!!,cannot serve drink.\")\n",
    "    "
   ]
  },
  {
   "cell_type": "code",
   "execution_count": null,
   "id": "c6c2904f",
   "metadata": {},
   "outputs": [],
   "source": [
    "#18) Manoj Kumar has family and friends. Help him remind\n",
    "# them who is who. Given a string with a name, return the\n",
    "# relation of that person to Manoj Kumar."
   ]
  },
  {
   "cell_type": "code",
   "execution_count": 20,
   "id": "d43b8a87",
   "metadata": {},
   "outputs": [
    {
     "name": "stdout",
     "output_type": "stream",
     "text": [
      "Shiva is father of Manoj,Latha is mother of Manoj, Tarun is brother of Manoj and Kavitha is sister of Manoj \n"
     ]
    }
   ],
   "source": [
    "father = \"Shiva\"\n",
    "mother = \"Latha\"\n",
    "brother = \"Tarun\"\n",
    "sister = \"Kavitha\"\n",
    "\n",
    "print(\"{} is father of Manoj,{} is mother of Manoj, {} is brother of Manoj and {} is sister of Manoj \".format(father,mother,brother,sister))"
   ]
  },
  {
   "cell_type": "code",
   "execution_count": 11,
   "id": "778dfea9",
   "metadata": {},
   "outputs": [],
   "source": [
    "# 19) Write a python program that takes a string, breaks it up\n",
    "# and returns it with vowels first, consonants second. For any\n",
    "# character that's not a vowel (like special characters or\n",
    "# spaces), treat them like consonants"
   ]
  },
  {
   "cell_type": "code",
   "execution_count": 16,
   "id": "e6782ef3",
   "metadata": {},
   "outputs": [
    {
     "name": "stdout",
     "output_type": "stream",
     "text": [
      "Enter a string: sdefsfg\n",
      "esdfsfg\n"
     ]
    }
   ],
   "source": [
    "string1=input(\"Enter a string: \")\n",
    "def vowels(string):\n",
    "    x=\"\"\n",
    "    y=\"\"\n",
    "    for _ in string:\n",
    "        if _.lower() in \"aeiou\":\n",
    "            x+=_\n",
    "        else:\n",
    "            y+=_\n",
    "    return x+y\n",
    "result=vowels(string1)\n",
    "print(result)"
   ]
  },
  {
   "cell_type": "code",
   "execution_count": 17,
   "id": "77a88d07",
   "metadata": {},
   "outputs": [],
   "source": [
    "#20) Create a dynamic calculator which asks for numbers and operator and return the answers\n",
    "\n"
   ]
  },
  {
   "cell_type": "code",
   "execution_count": 18,
   "id": "841ebb04",
   "metadata": {},
   "outputs": [
    {
     "name": "stdout",
     "output_type": "stream",
     "text": [
      "Enter to start c or to off q: c\n",
      "Enter number: 10\n",
      "Enter symbol +,-,%,/: *\n",
      "Enter number: 19\n",
      "10*19=190\n",
      "Enter to start c or to off q: q\n"
     ]
    }
   ],
   "source": [
    "x=1\n",
    "while x==1:\n",
    "    off= input(\"Enter to start c or to off q: \")\n",
    "    if off==\"q\":\n",
    "        break\n",
    "    else:\n",
    "        number1 = int(input(\"Enter number: \"))\n",
    "        symbol = input(\"Enter symbol +,-,%,/: \")\n",
    "        number2 = int(input(\"Enter number: \"))\n",
    "        \n",
    "        if symbol==\"+\":\n",
    "            print(\"{}+{}={}\".format(number1,number2,number1+number2))\n",
    "        elif symbol==\"-\":\n",
    "            print(\"{}-{}={}\".format(number1,number2,number1-number2))\n",
    "        elif symbol==\"*\":\n",
    "            print(\"{}*{}={}\".format(number1,number2,number1*number2))\n",
    "        elif symbol==\"%\":\n",
    "            print(\"{}%{}={}\".format(number1,number2,number1%number2))\n",
    "        elif symbol==\"/\":\n",
    "            print(\"{}/{}={}\".format(number1,number2,number1/number2))\n",
    "        else:\n",
    "            print(\"Invalid entry!!\")"
   ]
  },
  {
   "cell_type": "code",
   "execution_count": null,
   "id": "a419a610",
   "metadata": {},
   "outputs": [],
   "source": []
  }
 ],
 "metadata": {
  "kernelspec": {
   "display_name": "Python 3 (ipykernel)",
   "language": "python",
   "name": "python3"
  },
  "language_info": {
   "codemirror_mode": {
    "name": "ipython",
    "version": 3
   },
   "file_extension": ".py",
   "mimetype": "text/x-python",
   "name": "python",
   "nbconvert_exporter": "python",
   "pygments_lexer": "ipython3",
   "version": "3.10.9"
  }
 },
 "nbformat": 4,
 "nbformat_minor": 5
}
