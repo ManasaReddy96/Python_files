{
 "cells": [
  {
   "cell_type": "code",
   "execution_count": 1,
   "id": "6504167c",
   "metadata": {},
   "outputs": [
    {
     "name": "stdout",
     "output_type": "stream",
     "text": [
      "  * *  \n",
      "*    *\n",
      "*    *\n",
      "*    *\n",
      "*    *\n",
      "  * *  * \n"
     ]
    }
   ],
   "source": [
    "x = 1\n",
    "while  x<=7:\n",
    "    if x==1:\n",
    "        print(\"  * *  \")\n",
    "    elif x==2 or x==3 or x==4 or x==5:  \n",
    "        print(\"*    *\")\n",
    "    elif x==6:\n",
    "        print(\"  * *  * \")\n",
    "    x+=1"
   ]
  },
  {
   "cell_type": "code",
   "execution_count": 2,
   "id": "21894fa9",
   "metadata": {},
   "outputs": [
    {
     "name": "stdout",
     "output_type": "stream",
     "text": [
      "*  \n",
      "*  \n",
      "*  \n",
      "* * *\n",
      "*     *\n",
      "*     *\n",
      "*    *\n",
      "* * *\n"
     ]
    }
   ],
   "source": [
    "x = 1\n",
    "while x<=8:\n",
    "    if x==1 or x==2 or x==3:\n",
    "        print(\"*  \")\n",
    "    elif x==4 or x==8:\n",
    "        print(\"* * *\")\n",
    "    elif x==5 or x==6:\n",
    "        print(\"*     *\")\n",
    "    else:\n",
    "        print(\"*    *\")\n",
    "    \n",
    "    x+=1"
   ]
  },
  {
   "cell_type": "code",
   "execution_count": 3,
   "id": "d63f3f7a",
   "metadata": {},
   "outputs": [
    {
     "name": "stdout",
     "output_type": "stream",
     "text": [
      "  * * *\n",
      "*\n",
      "*\n",
      "*\n",
      "*\n",
      "  * * *\n"
     ]
    }
   ],
   "source": [
    "x=1\n",
    "while x<=6:\n",
    "    if x==1 or x==6:\n",
    "        print(\"  * * *\")\n",
    "    else:\n",
    "        print(\"*\")\n",
    "    x+=1"
   ]
  },
  {
   "cell_type": "code",
   "execution_count": 97,
   "id": "bb9666e5",
   "metadata": {},
   "outputs": [
    {
     "name": "stdout",
     "output_type": "stream",
     "text": [
      "      *\n",
      "      *\n",
      "      *\n",
      "  *   *\n",
      "*     *\n",
      "*     *\n",
      "*     *\n",
      " *   *  *\n"
     ]
    }
   ],
   "source": [
    "x = 1\n",
    "while x<=8:\n",
    "    if x==1 or x==2 or x==3:\n",
    "        print(\"      *\")\n",
    "    elif x==4:\n",
    "        print(\"  *   *\")\n",
    "    elif x==5 or x==6:\n",
    "        print(\"*     *\")\n",
    "    elif x==7:\n",
    "        print(\"*     *\")\n",
    "    else:\n",
    "        print(\" *   *  *\")\n",
    "   \n",
    "    x+=1"
   ]
  },
  {
   "cell_type": "code",
   "execution_count": 10,
   "id": "962aa9d1",
   "metadata": {},
   "outputs": [
    {
     "name": "stdout",
     "output_type": "stream",
     "text": [
      "   *  *  \n",
      "*       *\n",
      "*       *\n",
      "*  *  *  \n",
      "*\n",
      "*\n",
      "  * * * *\n"
     ]
    }
   ],
   "source": [
    "x=1\n",
    "while x<=7:\n",
    "    if x==1:\n",
    "        print(\"   *  *  \")\n",
    "    elif x==2 or x==3:\n",
    "        print(\"*       *\")\n",
    "    elif x==4: \n",
    "        print(\"*  *  *  \")\n",
    "    elif x==5 or x==6:\n",
    "        print(\"*\")\n",
    "    else:\n",
    "        print(\"  * * * *\")\n",
    "    x+=1"
   ]
  },
  {
   "cell_type": "code",
   "execution_count": 115,
   "id": "68986204",
   "metadata": {},
   "outputs": [
    {
     "name": "stdout",
     "output_type": "stream",
     "text": [
      "    * *  \n",
      "  *    \n",
      "  *    \n",
      "* * * *  \n",
      "  *    \n",
      "  *    \n"
     ]
    }
   ],
   "source": [
    "x=1\n",
    "while x<=6:\n",
    "    if x==1:\n",
    "        print(\"    * *  \")\n",
    "    elif x==2 or x==3 or x==5 or x==6:\n",
    "        print(\"  *    \")\n",
    "   \n",
    "    else:\n",
    "        print(\"* * * *  \")\n",
    "  \n",
    "    x+=1 "
   ]
  },
  {
   "cell_type": "code",
   "execution_count": 117,
   "id": "a4b0f6c2",
   "metadata": {},
   "outputs": [
    {
     "name": "stdout",
     "output_type": "stream",
     "text": [
      "  *  * * \n",
      "*      *\n",
      "*      *\n",
      " *  *  *\n",
      "       *\n",
      "*      *\n",
      "  *  * * \n"
     ]
    }
   ],
   "source": [
    "x=1\n",
    "while x<=7:\n",
    "    if x==1 or x==7: \n",
    "        print(\"  *  * * \")\n",
    "    elif x==2 or x==3 or x==6: \n",
    "        print(\"*      *\")\n",
    "    elif x==4:\n",
    "        print(\" *  *  *\")\n",
    "    else :\n",
    "        print(\"       *\")\n",
    "    x+=1"
   ]
  },
  {
   "cell_type": "code",
   "execution_count": 13,
   "id": "20881399",
   "metadata": {},
   "outputs": [
    {
     "name": "stdout",
     "output_type": "stream",
     "text": [
      "*  \n",
      "*  \n",
      "*  \n",
      "*  * *\n",
      "*     *\n",
      "*     *\n"
     ]
    }
   ],
   "source": [
    "x = 1\n",
    "while x<=6:\n",
    "    if x==1 or x==2 or x==3:\n",
    "        print(\"*  \")\n",
    "    elif x==4 :\n",
    "        print(\"*  * *\")\n",
    "    else:\n",
    "        print(\"*     *\")\n",
    "\n",
    "    \n",
    "    x+=1"
   ]
  },
  {
   "cell_type": "code",
   "execution_count": 20,
   "id": "7947c681",
   "metadata": {},
   "outputs": [
    {
     "name": "stdout",
     "output_type": "stream",
     "text": [
      "** \n",
      " * \n",
      " * \n",
      " * \n",
      " * \n",
      " * \n",
      " * \n",
      " * \n"
     ]
    }
   ],
   "source": [
    "x = 1\n",
    "while x<=8:\n",
    "    if x==1:\n",
    "        print(\"** \")\n",
    "    else:\n",
    "        print(\" * \")\n",
    "    x+=1"
   ]
  },
  {
   "cell_type": "code",
   "execution_count": 119,
   "id": "781ddc3b",
   "metadata": {},
   "outputs": [
    {
     "name": "stdout",
     "output_type": "stream",
     "text": [
      "      ** \n",
      "       *\n",
      "       *\n",
      "       *\n",
      "       *\n",
      "*      *\n",
      " *  * *\n"
     ]
    }
   ],
   "source": [
    "x=1\n",
    "while x<=7:\n",
    "    if x==1: \n",
    "        print(\"      ** \")\n",
    "    elif x==2 or x==3 or x==4 or x==5: \n",
    "        print(\"       *\")\n",
    "   \n",
    "    elif x==6:\n",
    "        print(\"*      *\")\n",
    "    else : \n",
    "        print(\" *  * *\") \n",
    "    \n",
    "    x+=1\n"
   ]
  },
  {
   "cell_type": "code",
   "execution_count": 74,
   "id": "d07131bc",
   "metadata": {},
   "outputs": [
    {
     "name": "stdout",
     "output_type": "stream",
     "text": [
      "*    \n",
      "*    \n",
      "*   *\n",
      "*  * \n",
      "*   *\n",
      "*   *\n"
     ]
    }
   ],
   "source": [
    "x=1\n",
    "while x<=6:\n",
    "    if x==1 or x==2:\n",
    "        print(\"*    \")\n",
    "    elif  x==4:\n",
    "        print(\"*  * \")\n",
    "    \n",
    "    else:\n",
    "        print(\"*   *\")\n",
    "    x+=1"
   ]
  },
  {
   "cell_type": "code",
   "execution_count": 21,
   "id": "6a1a9f2a",
   "metadata": {},
   "outputs": [
    {
     "name": "stdout",
     "output_type": "stream",
     "text": [
      " * \n",
      " * \n",
      " * \n",
      " * \n",
      " * \n",
      " * \n",
      " * \n"
     ]
    }
   ],
   "source": [
    "x = 1\n",
    "while x<=8:\n",
    "    if x<8:\n",
    "        print(\" * \")\n",
    "    \n",
    "    x+=1"
   ]
  },
  {
   "cell_type": "code",
   "execution_count": 34,
   "id": "08d0502e",
   "metadata": {},
   "outputs": [
    {
     "name": "stdout",
     "output_type": "stream",
     "text": [
      "*       \n",
      " * *    * \n",
      " *   *    *\n",
      " *        * \n",
      " *        * \n"
     ]
    }
   ],
   "source": [
    "x=1\n",
    "while x<=5:\n",
    "    if x==1:\n",
    "        print(\"*       \")\n",
    "    elif x==2:\n",
    "        print(\" * *    * \")\n",
    "    elif x==4 or x==5:\n",
    "        print(\" *        * \")\n",
    "    else:\n",
    "        print(\" *   *    *\")\n",
    "    \n",
    "    x+=1"
   ]
  },
  {
   "cell_type": "code",
   "execution_count": 35,
   "id": "f0b576ae",
   "metadata": {},
   "outputs": [
    {
     "name": "stdout",
     "output_type": "stream",
     "text": [
      "*       \n",
      " * *  * * \n",
      " *        * \n",
      " *        * \n",
      " *        * \n"
     ]
    }
   ],
   "source": [
    "x=1\n",
    "while x<=5:\n",
    "    if x==1:\n",
    "        print(\"*       \")\n",
    "    elif x==2:\n",
    "        print(\" * *  * * \")\n",
    "    else:\n",
    "        print(\" *        * \")\n",
    "\n",
    "    \n",
    "    x+=1"
   ]
  },
  {
   "cell_type": "code",
   "execution_count": 50,
   "id": "235b99a4",
   "metadata": {},
   "outputs": [
    {
     "name": "stdout",
     "output_type": "stream",
     "text": [
      "  * * *\n",
      "*       *\n",
      "*       *\n",
      "*       *\n",
      "  * * *\n"
     ]
    }
   ],
   "source": [
    "x=1\n",
    "while x<=5:\n",
    "    if x==1 or x==5:\n",
    "        print(\"  * * *\")\n",
    "    else:\n",
    "        print(\"*       *\")\n",
    "    x+=1"
   ]
  },
  {
   "cell_type": "code",
   "execution_count": 46,
   "id": "86f7544b",
   "metadata": {},
   "outputs": [
    {
     "name": "stdout",
     "output_type": "stream",
     "text": [
      "*   \n",
      " * * *\n",
      " *     *\n",
      " * * *\n",
      " *\n",
      " *\n",
      " *\n"
     ]
    }
   ],
   "source": [
    "x=1\n",
    "while x<=7:\n",
    "    \n",
    "    if x==2 or x==4:\n",
    "        print(\" * * *\")\n",
    "    elif x==3:\n",
    "        print(\" *     *\")\n",
    "    elif x==7 or x==4 or x==5 or x==6:\n",
    "        print(\" *\")\n",
    "    else: \n",
    "        print(\"*   \")\n",
    "    x+=1"
   ]
  },
  {
   "cell_type": "code",
   "execution_count": 54,
   "id": "7b36e3a4",
   "metadata": {},
   "outputs": [
    {
     "name": "stdout",
     "output_type": "stream",
     "text": [
      "  *  * * \n",
      "*      *\n",
      "*      *\n",
      " *  *  *\n",
      "       *\n",
      "       * *\n",
      "       *\n"
     ]
    }
   ],
   "source": [
    "x=1\n",
    "while x<=7:\n",
    "    if x==1: \n",
    "        print(\"  *  * * \")\n",
    "    elif x==2 or x==3: \n",
    "        print(\"*      *\")\n",
    "    elif x==4:\n",
    "        print(\" *  *  *\")\n",
    "    elif x==6:\n",
    "        print(\"       * *\")\n",
    "    else :\n",
    "        print(\"       *\")\n",
    "   \n",
    "    \n",
    "    x+=1"
   ]
  },
  {
   "cell_type": "code",
   "execution_count": 60,
   "id": "95cbb822",
   "metadata": {},
   "outputs": [
    {
     "name": "stdout",
     "output_type": "stream",
     "text": [
      "*   * \n",
      "*  *\n",
      "**\n",
      "* \n",
      "* \n",
      "* \n",
      "* \n",
      "* \n"
     ]
    }
   ],
   "source": [
    "x = 1\n",
    "while x<=8:\n",
    "    if x==1:\n",
    "        print(\"*   * \")\n",
    "    elif x==2 :\n",
    "        print(\"*  *\")\n",
    "    elif x==3:\n",
    "        print(\"**\")\n",
    "    else:\n",
    "        print(\"* \")\n",
    "    x+=1"
   ]
  },
  {
   "cell_type": "code",
   "execution_count": 64,
   "id": "fda5484a",
   "metadata": {},
   "outputs": [
    {
     "name": "stdout",
     "output_type": "stream",
     "text": [
      "  * * * \n",
      "*        \n",
      " *  * *\n",
      "        *\n",
      "  * * * \n"
     ]
    }
   ],
   "source": [
    "x=1\n",
    "while x<=5:\n",
    "    \n",
    "    if x==1 or x==5:\n",
    "        print(\"  * * * \")\n",
    "    elif x==2 :\n",
    "        print(\"*        \")\n",
    "    \n",
    "    elif x==3:\n",
    "        print(\" *  * *\")\n",
    "    else:\n",
    "        print(\"        *\")\n",
    "   \n",
    "    x+=1"
   ]
  },
  {
   "cell_type": "code",
   "execution_count": 68,
   "id": "a80e5131",
   "metadata": {},
   "outputs": [
    {
     "name": "stdout",
     "output_type": "stream",
     "text": [
      "   * \n",
      "   * \n",
      "   * \n",
      "* * * *  \n",
      "   * \n",
      "   * * *    \n"
     ]
    }
   ],
   "source": [
    "x=1\n",
    "while x<=6:\n",
    "    if x==6:\n",
    "        print(\"   * * *    \")\n",
    "    \n",
    "   \n",
    "    elif x==4:\n",
    "        print(\"* * * *  \")\n",
    "  \n",
    "    else:\n",
    "        print(\"   * \")\n",
    "    x+=1 "
   ]
  },
  {
   "cell_type": "code",
   "execution_count": 75,
   "id": "a3a69abc",
   "metadata": {},
   "outputs": [
    {
     "name": "stdout",
     "output_type": "stream",
     "text": [
      "*       *\n",
      "*       *\n",
      "*       *\n",
      "*       *\n",
      " *  *  *  *\n"
     ]
    }
   ],
   "source": [
    "x=1\n",
    "while x<=5:\n",
    "    if x==1 or x==2 or x==3 or x==4: \n",
    "        print(\"*       *\")\n",
    "    else:\n",
    "        print(\" *  *  *  *\")\n",
    "   \n",
    "    x=x+1"
   ]
  },
  {
   "cell_type": "code",
   "execution_count": 91,
   "id": "08c6f761",
   "metadata": {},
   "outputs": [
    {
     "name": "stdout",
     "output_type": "stream",
     "text": [
      " *         *\n",
      "  *       *\n",
      "    *   *\n",
      "      *  \n"
     ]
    }
   ],
   "source": [
    "x=1\n",
    "while x<=4:\n",
    "    if x==1:\n",
    "        print(\" *         *\")\n",
    "    elif x==2:\n",
    "        print(\"  *       *\")\n",
    "    elif x==3:\n",
    "        print(\"    *   *\")\n",
    "    \n",
    "    else:\n",
    "        print(\"      *  \")\n",
    "   \n",
    "    x=x+1"
   ]
  },
  {
   "cell_type": "code",
   "execution_count": 89,
   "id": "e206b660",
   "metadata": {},
   "outputs": [
    {
     "name": "stdout",
     "output_type": "stream",
     "text": [
      "*         *\n",
      "*    *    *\n",
      " *  * *  *\n",
      "  *     *\n"
     ]
    }
   ],
   "source": [
    "x=1\n",
    "while x<=4:\n",
    "    if x==1:\n",
    "        print(\"*         *\")\n",
    "    elif x==2 :\n",
    "        print(\"*    *    *\")\n",
    "    elif x==3:\n",
    "        print(\" *  * *  *\")\n",
    "    else:\n",
    "        print(\"  *     *\")\n",
    "    \n",
    "    x+=1"
   ]
  },
  {
   "cell_type": "code",
   "execution_count": 96,
   "id": "26339701",
   "metadata": {},
   "outputs": [
    {
     "name": "stdout",
     "output_type": "stream",
     "text": [
      "  *     *\n",
      "   *   *  \n",
      "     *     \n",
      "   *   *  \n",
      "  *     *\n"
     ]
    }
   ],
   "source": [
    "x=1\n",
    "while x<=5:\n",
    "    if x==1 or x==5:\n",
    "        print(\"  *     *\")\n",
    "    elif x==2 or x==4:\n",
    "        print(\"   *   *  \")\n",
    "    else:\n",
    "        print(\"     *     \")\n",
    "    \n",
    "\n",
    "   \n",
    "    x=x+1"
   ]
  },
  {
   "cell_type": "code",
   "execution_count": 108,
   "id": "b9e8f406",
   "metadata": {},
   "outputs": [
    {
     "name": "stdout",
     "output_type": "stream",
     "text": [
      "*      * \n",
      "*      * \n",
      "  * * *  \n",
      "       *\n",
      "       *\n",
      "*      * \n",
      "  * * *  \n"
     ]
    }
   ],
   "source": [
    "x=1\n",
    "while x<=7:\n",
    "    if x==1 or x==2 or x==6: \n",
    "        print(\"*      * \")\n",
    "    elif x==4 or x==5 : \n",
    "        print(\"       *\")\n",
    "    \n",
    "    elif x==6:\n",
    "        print(\"       *\")\n",
    "    else : \n",
    "        print(\"  * * *  \") \n",
    "    \n",
    "    x+=1\n",
    "\n"
   ]
  },
  {
   "cell_type": "code",
   "execution_count": 114,
   "id": "9bbbe38d",
   "metadata": {},
   "outputs": [
    {
     "name": "stdout",
     "output_type": "stream",
     "text": [
      "* * * * *\n",
      "      *\n",
      "  * * *  \n",
      "  * \n",
      "* * * * *\n"
     ]
    }
   ],
   "source": [
    "x=1\n",
    "while x<=5:\n",
    "    if x==1 or x==5:\n",
    "        print(\"* * * * *\")\n",
    "    elif x==2:\n",
    "        print(\"      *\")\n",
    "    elif x==4:\n",
    "        print(\"  * \")\n",
    "    else:\n",
    "        print(\"  * * *  \")\n",
    "    x+=1"
   ]
  },
  {
   "cell_type": "code",
   "execution_count": null,
   "id": "4767bf96",
   "metadata": {},
   "outputs": [],
   "source": []
  }
 ],
 "metadata": {
  "kernelspec": {
   "display_name": "Python 3 (ipykernel)",
   "language": "python",
   "name": "python3"
  },
  "language_info": {
   "codemirror_mode": {
    "name": "ipython",
    "version": 3
   },
   "file_extension": ".py",
   "mimetype": "text/x-python",
   "name": "python",
   "nbconvert_exporter": "python",
   "pygments_lexer": "ipython3",
   "version": "3.10.9"
  }
 },
 "nbformat": 4,
 "nbformat_minor": 5
}
